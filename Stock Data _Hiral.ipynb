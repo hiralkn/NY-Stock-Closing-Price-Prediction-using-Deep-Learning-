{
 "cells": [
  {
   "cell_type": "markdown",
   "metadata": {},
   "source": [
    "**(NY) Stock closing price predictions using Deep Learning , Tensorflow & Keras**"
   ]
  },
  {
   "cell_type": "code",
   "execution_count": 7,
   "metadata": {},
   "outputs": [],
   "source": [
    "import numpy as np\n",
    "import pandas as pd\n",
    "import matplotlib.pyplot as plt"
   ]
  },
  {
   "cell_type": "markdown",
   "metadata": {},
   "source": [
    "### Load the dataset"
   ]
  },
  {
   "cell_type": "code",
   "execution_count": 8,
   "metadata": {},
   "outputs": [],
   "source": [
    "df=pd.read_csv('prices-split-adjusted.csv', header = 0)"
   ]
  },
  {
   "cell_type": "code",
   "execution_count": 9,
   "metadata": {},
   "outputs": [
    {
     "data": {
      "text/html": [
       "<div>\n",
       "<style scoped>\n",
       "    .dataframe tbody tr th:only-of-type {\n",
       "        vertical-align: middle;\n",
       "    }\n",
       "\n",
       "    .dataframe tbody tr th {\n",
       "        vertical-align: top;\n",
       "    }\n",
       "\n",
       "    .dataframe thead th {\n",
       "        text-align: right;\n",
       "    }\n",
       "</style>\n",
       "<table border=\"1\" class=\"dataframe\">\n",
       "  <thead>\n",
       "    <tr style=\"text-align: right;\">\n",
       "      <th></th>\n",
       "      <th>date</th>\n",
       "      <th>symbol</th>\n",
       "      <th>open</th>\n",
       "      <th>close</th>\n",
       "      <th>low</th>\n",
       "      <th>high</th>\n",
       "      <th>volume</th>\n",
       "    </tr>\n",
       "  </thead>\n",
       "  <tbody>\n",
       "    <tr>\n",
       "      <th>0</th>\n",
       "      <td>2016-01-05</td>\n",
       "      <td>WLTW</td>\n",
       "      <td>123.430000</td>\n",
       "      <td>125.839996</td>\n",
       "      <td>122.309998</td>\n",
       "      <td>126.250000</td>\n",
       "      <td>2163600.0</td>\n",
       "    </tr>\n",
       "    <tr>\n",
       "      <th>1</th>\n",
       "      <td>2016-01-06</td>\n",
       "      <td>WLTW</td>\n",
       "      <td>125.239998</td>\n",
       "      <td>119.980003</td>\n",
       "      <td>119.940002</td>\n",
       "      <td>125.540001</td>\n",
       "      <td>2386400.0</td>\n",
       "    </tr>\n",
       "    <tr>\n",
       "      <th>2</th>\n",
       "      <td>2016-01-07</td>\n",
       "      <td>WLTW</td>\n",
       "      <td>116.379997</td>\n",
       "      <td>114.949997</td>\n",
       "      <td>114.930000</td>\n",
       "      <td>119.739998</td>\n",
       "      <td>2489500.0</td>\n",
       "    </tr>\n",
       "    <tr>\n",
       "      <th>3</th>\n",
       "      <td>2016-01-08</td>\n",
       "      <td>WLTW</td>\n",
       "      <td>115.480003</td>\n",
       "      <td>116.620003</td>\n",
       "      <td>113.500000</td>\n",
       "      <td>117.440002</td>\n",
       "      <td>2006300.0</td>\n",
       "    </tr>\n",
       "    <tr>\n",
       "      <th>4</th>\n",
       "      <td>2016-01-11</td>\n",
       "      <td>WLTW</td>\n",
       "      <td>117.010002</td>\n",
       "      <td>114.970001</td>\n",
       "      <td>114.089996</td>\n",
       "      <td>117.330002</td>\n",
       "      <td>1408600.0</td>\n",
       "    </tr>\n",
       "  </tbody>\n",
       "</table>\n",
       "</div>"
      ],
      "text/plain": [
       "         date symbol        open       close         low        high  \\\n",
       "0  2016-01-05   WLTW  123.430000  125.839996  122.309998  126.250000   \n",
       "1  2016-01-06   WLTW  125.239998  119.980003  119.940002  125.540001   \n",
       "2  2016-01-07   WLTW  116.379997  114.949997  114.930000  119.739998   \n",
       "3  2016-01-08   WLTW  115.480003  116.620003  113.500000  117.440002   \n",
       "4  2016-01-11   WLTW  117.010002  114.970001  114.089996  117.330002   \n",
       "\n",
       "      volume  \n",
       "0  2163600.0  \n",
       "1  2386400.0  \n",
       "2  2489500.0  \n",
       "3  2006300.0  \n",
       "4  1408600.0  "
      ]
     },
     "execution_count": 9,
     "metadata": {},
     "output_type": "execute_result"
    }
   ],
   "source": [
    "df.head(5)"
   ]
  },
  {
   "cell_type": "code",
   "execution_count": 5,
   "metadata": {},
   "outputs": [
    {
     "data": {
      "text/plain": [
       "(851264, 7)"
      ]
     },
     "execution_count": 5,
     "metadata": {},
     "output_type": "execute_result"
    }
   ],
   "source": [
    "df.shape"
   ]
  },
  {
   "cell_type": "markdown",
   "metadata": {},
   "source": [
    "### Filter YAHOO data"
   ]
  },
  {
   "cell_type": "code",
   "execution_count": 10,
   "metadata": {},
   "outputs": [
    {
     "data": {
      "text/plain": [
       "array(['WLTW', 'A', 'AAL', 'AAP', 'AAPL', 'ABC', 'ABT', 'ACN', 'ADBE',\n",
       "       'ADI', 'ADM', 'ADP', 'ADS', 'ADSK', 'AEE', 'AEP', 'AES', 'AET',\n",
       "       'AFL', 'AGN', 'AIG', 'AIZ', 'AJG', 'AKAM', 'ALB', 'ALK', 'ALL',\n",
       "       'ALXN', 'AMAT', 'AME', 'AMG', 'AMGN', 'AMP', 'AMT', 'AMZN', 'AN',\n",
       "       'ANTM', 'AON', 'APA', 'APC', 'APD', 'APH', 'ARNC', 'ATVI', 'AVB',\n",
       "       'AVGO', 'AVY', 'AWK', 'AXP', 'AYI', 'AZO', 'BA', 'BAC', 'BAX',\n",
       "       'BBBY', 'BBT', 'BBY', 'BCR', 'BDX', 'BEN', 'BHI', 'BIIB', 'BK',\n",
       "       'BLK', 'BLL', 'BMY', 'BSX', 'BWA', 'BXP', 'C', 'CA', 'CAG', 'CAH',\n",
       "       'CAT', 'CB', 'CBG', 'CBS', 'CCI', 'CCL', 'CELG', 'CERN', 'CF',\n",
       "       'CHD', 'CHK', 'CHRW', 'CI', 'CINF', 'CL', 'CLX', 'CMA', 'CMCSA',\n",
       "       'CME', 'CMG', 'CMI', 'CMS', 'CNC', 'CNP', 'COF', 'COG', 'COH',\n",
       "       'COL', 'COO', 'COP', 'COST', 'CPB', 'CRM', 'CSCO', 'CSX', 'CTAS',\n",
       "       'CTL', 'CTSH', 'CTXS', 'CVS', 'CVX', 'CXO', 'D', 'DAL', 'DD', 'DE',\n",
       "       'DFS', 'DG', 'DGX', 'DHI', 'DHR', 'DIS', 'DISCA', 'DISCK', 'DLR',\n",
       "       'DLTR', 'DNB', 'DOV', 'DOW', 'DPS', 'DRI', 'DTE', 'DUK', 'DVA',\n",
       "       'DVN', 'EA', 'EBAY', 'ECL', 'ED', 'EFX', 'EIX', 'EL', 'EMN', 'EMR',\n",
       "       'ENDP', 'EOG', 'EQIX', 'EQR', 'EQT', 'ES', 'ESRX', 'ESS', 'ETFC',\n",
       "       'ETN', 'ETR', 'EW', 'EXC', 'EXPD', 'EXPE', 'EXR', 'F', 'FAST',\n",
       "       'FCX', 'FDX', 'FE', 'FFIV', 'FIS', 'FISV', 'FITB', 'FL', 'FLIR',\n",
       "       'FLR', 'FLS', 'FMC', 'FOX', 'FOXA', 'FRT', 'FSLR', 'FTI', 'FTR',\n",
       "       'GD', 'GE', 'GGP', 'GILD', 'GIS', 'GLW', 'GOOG', 'GOOGL', 'GPC',\n",
       "       'GPN', 'GPS', 'GRMN', 'GS', 'GT', 'GWW', 'HAL', 'HAR', 'HAS',\n",
       "       'HBAN', 'HBI', 'HCN', 'HCP', 'HD', 'HES', 'HIG', 'HOG', 'HOLX',\n",
       "       'HON', 'HP', 'HPQ', 'HRB', 'HRL', 'HRS', 'HSIC', 'HST', 'HSY',\n",
       "       'HUM', 'IBM', 'ICE', 'IDXX', 'IFF', 'ILMN', 'INTC', 'INTU', 'IP',\n",
       "       'IPG', 'IR', 'IRM', 'ISRG', 'ITW', 'IVZ', 'JBHT', 'JCI', 'JEC',\n",
       "       'JNJ', 'JNPR', 'JPM', 'JWN', 'K', 'KEY', 'KIM', 'KLAC', 'KMB',\n",
       "       'KMX', 'KO', 'KR', 'KSS', 'KSU', 'L', 'LB', 'LEG', 'LEN', 'LH',\n",
       "       'LKQ', 'LLL', 'LLTC', 'LLY', 'LMT', 'LNC', 'LNT', 'LOW', 'LRCX',\n",
       "       'LUK', 'LUV', 'LVLT', 'M', 'MA', 'MAA', 'MAC', 'MAR', 'MAS', 'MAT',\n",
       "       'MCD', 'MCHP', 'MCK', 'MCO', 'MDLZ', 'MDT', 'MET', 'MHK', 'MJN',\n",
       "       'MKC', 'MLM', 'MMC', 'MMM', 'MNST', 'MO', 'MON', 'MOS', 'MRK',\n",
       "       'MRO', 'MSFT', 'MSI', 'MTB', 'MTD', 'MU', 'MUR', 'MYL', 'NBL',\n",
       "       'NDAQ', 'NEE', 'NEM', 'NFLX', 'NFX', 'NI', 'NKE', 'NOC', 'NOV',\n",
       "       'NRG', 'NSC', 'NTAP', 'NTRS', 'NUE', 'NVDA', 'NWL', 'O', 'OKE',\n",
       "       'OMC', 'ORCL', 'ORLY', 'OXY', 'PAYX', 'PBCT', 'PBI', 'PCAR', 'PCG',\n",
       "       'PCLN', 'PDCO', 'PEG', 'PEP', 'PFE', 'PFG', 'PG', 'PGR', 'PH',\n",
       "       'PHM', 'PKI', 'PLD', 'PM', 'PNC', 'PNR', 'PNW', 'PPG', 'PPL',\n",
       "       'PRGO', 'PRU', 'PSA', 'PVH', 'PWR', 'PX', 'PXD', 'QCOM', 'R',\n",
       "       'RAI', 'RCL', 'REGN', 'RF', 'RHI', 'RHT', 'RIG', 'RL', 'ROK',\n",
       "       'ROP', 'ROST', 'RRC', 'RSG', 'RTN', 'SBUX', 'SCG', 'SCHW', 'SE',\n",
       "       'SEE', 'SHW', 'SIG', 'SJM', 'SLB', 'SLG', 'SNA', 'SNI', 'SO',\n",
       "       'SPG', 'SPGI', 'SPLS', 'SRCL', 'SRE', 'STI', 'STT', 'STX', 'STZ',\n",
       "       'SWK', 'SWKS', 'SWN', 'SYK', 'SYMC', 'SYY', 'T', 'TAP', 'TDC',\n",
       "       'TEL', 'TGNA', 'TGT', 'TIF', 'TJX', 'TMK', 'TMO', 'TROW', 'TRV',\n",
       "       'TSCO', 'TSN', 'TSO', 'TSS', 'TWX', 'TXN', 'TXT', 'UAA', 'UAL',\n",
       "       'UDR', 'UHS', 'ULTA', 'UNH', 'UNM', 'UNP', 'UPS', 'URBN', 'URI',\n",
       "       'USB', 'UTX', 'V', 'VAR', 'VFC', 'VIAB', 'VLO', 'VMC', 'VNO',\n",
       "       'VRSK', 'VRSN', 'VRTX', 'VTR', 'VZ', 'WAT', 'WBA', 'WDC', 'WEC',\n",
       "       'WFC', 'WFM', 'WHR', 'WM', 'WMB', 'WMT', 'WU', 'WY', 'WYN', 'WYNN',\n",
       "       'XEC', 'XEL', 'XL', 'XLNX', 'XOM', 'XRAY', 'XRX', 'YHOO', 'YUM',\n",
       "       'ZBH', 'ZION', 'AIV', 'CHTR', 'LYB', 'GM', 'ABBV', 'DLPH', 'FB',\n",
       "       'FBHS', 'HCA', 'KMI', 'KORS', 'MPC', 'NLSN', 'PSX', 'TDG', 'TRIP',\n",
       "       'XYL', 'ZTS', 'COTY', 'MNK', 'NWS', 'NWSA', 'EVHC', 'ALLE', 'CFG',\n",
       "       'NAVI', 'QRVO', 'SYF', 'WRK', 'KHC', 'PYPL', 'HPE', 'CSRA', 'FTV'],\n",
       "      dtype=object)"
      ]
     },
     "execution_count": 10,
     "metadata": {},
     "output_type": "execute_result"
    }
   ],
   "source": [
    "df['symbol'].unique()"
   ]
  },
  {
   "cell_type": "code",
   "execution_count": 11,
   "metadata": {},
   "outputs": [],
   "source": [
    "df_yahoo=df[df['symbol']=='YHOO']"
   ]
  },
  {
   "cell_type": "code",
   "execution_count": 12,
   "metadata": {},
   "outputs": [
    {
     "data": {
      "text/html": [
       "<div>\n",
       "<style scoped>\n",
       "    .dataframe tbody tr th:only-of-type {\n",
       "        vertical-align: middle;\n",
       "    }\n",
       "\n",
       "    .dataframe tbody tr th {\n",
       "        vertical-align: top;\n",
       "    }\n",
       "\n",
       "    .dataframe thead th {\n",
       "        text-align: right;\n",
       "    }\n",
       "</style>\n",
       "<table border=\"1\" class=\"dataframe\">\n",
       "  <thead>\n",
       "    <tr style=\"text-align: right;\">\n",
       "      <th></th>\n",
       "      <th>date</th>\n",
       "      <th>symbol</th>\n",
       "      <th>open</th>\n",
       "      <th>close</th>\n",
       "      <th>low</th>\n",
       "      <th>high</th>\n",
       "      <th>volume</th>\n",
       "    </tr>\n",
       "  </thead>\n",
       "  <tbody>\n",
       "    <tr>\n",
       "      <th>713</th>\n",
       "      <td>2010-01-04</td>\n",
       "      <td>YHOO</td>\n",
       "      <td>16.940001</td>\n",
       "      <td>17.100000</td>\n",
       "      <td>16.879999</td>\n",
       "      <td>17.200001</td>\n",
       "      <td>16587400.0</td>\n",
       "    </tr>\n",
       "    <tr>\n",
       "      <th>1181</th>\n",
       "      <td>2010-01-05</td>\n",
       "      <td>YHOO</td>\n",
       "      <td>17.219999</td>\n",
       "      <td>17.230000</td>\n",
       "      <td>17.000000</td>\n",
       "      <td>17.230000</td>\n",
       "      <td>11718100.0</td>\n",
       "    </tr>\n",
       "    <tr>\n",
       "      <th>1649</th>\n",
       "      <td>2010-01-06</td>\n",
       "      <td>YHOO</td>\n",
       "      <td>17.170000</td>\n",
       "      <td>17.170000</td>\n",
       "      <td>17.070000</td>\n",
       "      <td>17.299999</td>\n",
       "      <td>16422000.0</td>\n",
       "    </tr>\n",
       "    <tr>\n",
       "      <th>2117</th>\n",
       "      <td>2010-01-07</td>\n",
       "      <td>YHOO</td>\n",
       "      <td>16.809999</td>\n",
       "      <td>16.700001</td>\n",
       "      <td>16.570000</td>\n",
       "      <td>16.900000</td>\n",
       "      <td>31816300.0</td>\n",
       "    </tr>\n",
       "    <tr>\n",
       "      <th>2585</th>\n",
       "      <td>2010-01-08</td>\n",
       "      <td>YHOO</td>\n",
       "      <td>16.680000</td>\n",
       "      <td>16.700001</td>\n",
       "      <td>16.620001</td>\n",
       "      <td>16.760000</td>\n",
       "      <td>15470000.0</td>\n",
       "    </tr>\n",
       "  </tbody>\n",
       "</table>\n",
       "</div>"
      ],
      "text/plain": [
       "            date symbol       open      close        low       high  \\\n",
       "713   2010-01-04   YHOO  16.940001  17.100000  16.879999  17.200001   \n",
       "1181  2010-01-05   YHOO  17.219999  17.230000  17.000000  17.230000   \n",
       "1649  2010-01-06   YHOO  17.170000  17.170000  17.070000  17.299999   \n",
       "2117  2010-01-07   YHOO  16.809999  16.700001  16.570000  16.900000   \n",
       "2585  2010-01-08   YHOO  16.680000  16.700001  16.620001  16.760000   \n",
       "\n",
       "          volume  \n",
       "713   16587400.0  \n",
       "1181  11718100.0  \n",
       "1649  16422000.0  \n",
       "2117  31816300.0  \n",
       "2585  15470000.0  "
      ]
     },
     "execution_count": 12,
     "metadata": {},
     "output_type": "execute_result"
    }
   ],
   "source": [
    "df_yahoo.head()"
   ]
  },
  {
   "cell_type": "code",
   "execution_count": 13,
   "metadata": {},
   "outputs": [
    {
     "data": {
      "text/plain": [
       "(1762, 7)"
      ]
     },
     "execution_count": 13,
     "metadata": {},
     "output_type": "execute_result"
    }
   ],
   "source": [
    "df_yahoo.shape"
   ]
  },
  {
   "cell_type": "markdown",
   "metadata": {},
   "source": [
    "### Explore YAHOO data"
   ]
  },
  {
   "cell_type": "code",
   "execution_count": 14,
   "metadata": {},
   "outputs": [
    {
     "data": {
      "text/html": [
       "<div>\n",
       "<style scoped>\n",
       "    .dataframe tbody tr th:only-of-type {\n",
       "        vertical-align: middle;\n",
       "    }\n",
       "\n",
       "    .dataframe tbody tr th {\n",
       "        vertical-align: top;\n",
       "    }\n",
       "\n",
       "    .dataframe thead th {\n",
       "        text-align: right;\n",
       "    }\n",
       "</style>\n",
       "<table border=\"1\" class=\"dataframe\">\n",
       "  <thead>\n",
       "    <tr style=\"text-align: right;\">\n",
       "      <th></th>\n",
       "      <th>open</th>\n",
       "      <th>close</th>\n",
       "      <th>low</th>\n",
       "      <th>high</th>\n",
       "      <th>volume</th>\n",
       "    </tr>\n",
       "  </thead>\n",
       "  <tbody>\n",
       "    <tr>\n",
       "      <th>count</th>\n",
       "      <td>1762.000000</td>\n",
       "      <td>1762.000000</td>\n",
       "      <td>1762.000000</td>\n",
       "      <td>1762.000000</td>\n",
       "      <td>1.762000e+03</td>\n",
       "    </tr>\n",
       "    <tr>\n",
       "      <th>mean</th>\n",
       "      <td>27.297917</td>\n",
       "      <td>27.291992</td>\n",
       "      <td>26.975602</td>\n",
       "      <td>27.609977</td>\n",
       "      <td>1.996907e+07</td>\n",
       "    </tr>\n",
       "    <tr>\n",
       "      <th>std</th>\n",
       "      <td>11.412612</td>\n",
       "      <td>11.406846</td>\n",
       "      <td>11.289736</td>\n",
       "      <td>11.526101</td>\n",
       "      <td>1.376851e+07</td>\n",
       "    </tr>\n",
       "    <tr>\n",
       "      <th>min</th>\n",
       "      <td>11.300000</td>\n",
       "      <td>11.090000</td>\n",
       "      <td>11.090000</td>\n",
       "      <td>11.800000</td>\n",
       "      <td>2.586900e+06</td>\n",
       "    </tr>\n",
       "    <tr>\n",
       "      <th>25%</th>\n",
       "      <td>15.950000</td>\n",
       "      <td>15.920000</td>\n",
       "      <td>15.770000</td>\n",
       "      <td>16.110001</td>\n",
       "      <td>1.235152e+07</td>\n",
       "    </tr>\n",
       "    <tr>\n",
       "      <th>50%</th>\n",
       "      <td>26.770001</td>\n",
       "      <td>26.750000</td>\n",
       "      <td>26.495000</td>\n",
       "      <td>27.105001</td>\n",
       "      <td>1.639070e+07</td>\n",
       "    </tr>\n",
       "    <tr>\n",
       "      <th>75%</th>\n",
       "      <td>37.335000</td>\n",
       "      <td>37.377501</td>\n",
       "      <td>36.897501</td>\n",
       "      <td>37.689999</td>\n",
       "      <td>2.325988e+07</td>\n",
       "    </tr>\n",
       "    <tr>\n",
       "      <th>max</th>\n",
       "      <td>52.279999</td>\n",
       "      <td>52.369999</td>\n",
       "      <td>51.639999</td>\n",
       "      <td>52.619999</td>\n",
       "      <td>2.338721e+08</td>\n",
       "    </tr>\n",
       "  </tbody>\n",
       "</table>\n",
       "</div>"
      ],
      "text/plain": [
       "              open        close          low         high        volume\n",
       "count  1762.000000  1762.000000  1762.000000  1762.000000  1.762000e+03\n",
       "mean     27.297917    27.291992    26.975602    27.609977  1.996907e+07\n",
       "std      11.412612    11.406846    11.289736    11.526101  1.376851e+07\n",
       "min      11.300000    11.090000    11.090000    11.800000  2.586900e+06\n",
       "25%      15.950000    15.920000    15.770000    16.110001  1.235152e+07\n",
       "50%      26.770001    26.750000    26.495000    27.105001  1.639070e+07\n",
       "75%      37.335000    37.377501    36.897501    37.689999  2.325988e+07\n",
       "max      52.279999    52.369999    51.639999    52.619999  2.338721e+08"
      ]
     },
     "execution_count": 14,
     "metadata": {},
     "output_type": "execute_result"
    }
   ],
   "source": [
    "df_yahoo.describe()"
   ]
  },
  {
   "cell_type": "code",
   "execution_count": 15,
   "metadata": {},
   "outputs": [
    {
     "data": {
      "text/plain": [
       "date      0\n",
       "symbol    0\n",
       "open      0\n",
       "close     0\n",
       "low       0\n",
       "high      0\n",
       "volume    0\n",
       "dtype: int64"
      ]
     },
     "execution_count": 15,
     "metadata": {},
     "output_type": "execute_result"
    }
   ],
   "source": [
    "df_yahoo.isnull().sum()"
   ]
  },
  {
   "cell_type": "code",
   "execution_count": 16,
   "metadata": {},
   "outputs": [
    {
     "name": "stderr",
     "output_type": "stream",
     "text": [
      "/usr/local/anaconda/envs/tensorflow2/lib/python3.6/site-packages/ipykernel_launcher.py:1: SettingWithCopyWarning: \n",
      "A value is trying to be set on a copy of a slice from a DataFrame.\n",
      "Try using .loc[row_indexer,col_indexer] = value instead\n",
      "\n",
      "See the caveats in the documentation: https://pandas.pydata.org/pandas-docs/stable/user_guide/indexing.html#returning-a-view-versus-a-copy\n",
      "  \"\"\"Entry point for launching an IPython kernel.\n"
     ]
    }
   ],
   "source": [
    "df_yahoo['date']= pd.to_datetime(df_yahoo['date'])  # convert date to datetime type"
   ]
  },
  {
   "cell_type": "code",
   "execution_count": 17,
   "metadata": {},
   "outputs": [
    {
     "name": "stdout",
     "output_type": "stream",
     "text": [
      "datetime64[ns]\n"
     ]
    }
   ],
   "source": [
    "print(str(df_yahoo.date.dtype))"
   ]
  },
  {
   "cell_type": "code",
   "execution_count": 18,
   "metadata": {},
   "outputs": [],
   "source": [
    "df_yahoo.set_index('date',inplace=True)  # set date as index"
   ]
  },
  {
   "cell_type": "code",
   "execution_count": 19,
   "metadata": {},
   "outputs": [
    {
     "data": {
      "text/plain": [
       "True"
      ]
     },
     "execution_count": 19,
     "metadata": {},
     "output_type": "execute_result"
    }
   ],
   "source": [
    "str(df_yahoo.index.dtype)=='datetime64[ns]'"
   ]
  },
  {
   "cell_type": "code",
   "execution_count": 20,
   "metadata": {},
   "outputs": [
    {
     "name": "stdout",
     "output_type": "stream",
     "text": [
      "date\n"
     ]
    }
   ],
   "source": [
    "print(df_yahoo.index.name)"
   ]
  },
  {
   "cell_type": "code",
   "execution_count": 18,
   "metadata": {},
   "outputs": [
    {
     "name": "stdout",
     "output_type": "stream",
     "text": [
      "(1762, 6)\n"
     ]
    }
   ],
   "source": [
    "print(df_yahoo.shape)"
   ]
  },
  {
   "cell_type": "code",
   "execution_count": 21,
   "metadata": {},
   "outputs": [],
   "source": [
    "yahoo_data=df_yahoo.asfreq(freq='b')  #"
   ]
  },
  {
   "cell_type": "code",
   "execution_count": 22,
   "metadata": {},
   "outputs": [
    {
     "name": "stdout",
     "output_type": "stream",
     "text": [
      "(1825, 6)\n"
     ]
    }
   ],
   "source": [
    "print(yahoo_data.shape)  # The above step will add some "
   ]
  },
  {
   "cell_type": "markdown",
   "metadata": {},
   "source": [
    "### Clean data and fill missing values"
   ]
  },
  {
   "cell_type": "code",
   "execution_count": 23,
   "metadata": {},
   "outputs": [
    {
     "data": {
      "text/html": [
       "<div>\n",
       "<style scoped>\n",
       "    .dataframe tbody tr th:only-of-type {\n",
       "        vertical-align: middle;\n",
       "    }\n",
       "\n",
       "    .dataframe tbody tr th {\n",
       "        vertical-align: top;\n",
       "    }\n",
       "\n",
       "    .dataframe thead th {\n",
       "        text-align: right;\n",
       "    }\n",
       "</style>\n",
       "<table border=\"1\" class=\"dataframe\">\n",
       "  <thead>\n",
       "    <tr style=\"text-align: right;\">\n",
       "      <th></th>\n",
       "      <th>symbol</th>\n",
       "      <th>open</th>\n",
       "      <th>close</th>\n",
       "      <th>low</th>\n",
       "      <th>high</th>\n",
       "      <th>volume</th>\n",
       "    </tr>\n",
       "    <tr>\n",
       "      <th>date</th>\n",
       "      <th></th>\n",
       "      <th></th>\n",
       "      <th></th>\n",
       "      <th></th>\n",
       "      <th></th>\n",
       "      <th></th>\n",
       "    </tr>\n",
       "  </thead>\n",
       "  <tbody>\n",
       "    <tr>\n",
       "      <th>2016-11-21</th>\n",
       "      <td>YHOO</td>\n",
       "      <td>41.439999</td>\n",
       "      <td>41.110001</td>\n",
       "      <td>40.939999</td>\n",
       "      <td>41.480000</td>\n",
       "      <td>11338000.0</td>\n",
       "    </tr>\n",
       "    <tr>\n",
       "      <th>2016-11-22</th>\n",
       "      <td>YHOO</td>\n",
       "      <td>41.200001</td>\n",
       "      <td>41.009998</td>\n",
       "      <td>40.830002</td>\n",
       "      <td>41.400002</td>\n",
       "      <td>8881200.0</td>\n",
       "    </tr>\n",
       "    <tr>\n",
       "      <th>2016-11-23</th>\n",
       "      <td>YHOO</td>\n",
       "      <td>40.910000</td>\n",
       "      <td>40.959999</td>\n",
       "      <td>40.549999</td>\n",
       "      <td>40.980000</td>\n",
       "      <td>3634900.0</td>\n",
       "    </tr>\n",
       "    <tr>\n",
       "      <th>2016-11-24</th>\n",
       "      <td>NaN</td>\n",
       "      <td>NaN</td>\n",
       "      <td>NaN</td>\n",
       "      <td>NaN</td>\n",
       "      <td>NaN</td>\n",
       "      <td>NaN</td>\n",
       "    </tr>\n",
       "    <tr>\n",
       "      <th>2016-11-25</th>\n",
       "      <td>YHOO</td>\n",
       "      <td>41.080002</td>\n",
       "      <td>40.869999</td>\n",
       "      <td>40.709999</td>\n",
       "      <td>41.080002</td>\n",
       "      <td>2586900.0</td>\n",
       "    </tr>\n",
       "    <tr>\n",
       "      <th>2016-11-28</th>\n",
       "      <td>YHOO</td>\n",
       "      <td>40.849998</td>\n",
       "      <td>41.450001</td>\n",
       "      <td>40.740002</td>\n",
       "      <td>41.700001</td>\n",
       "      <td>6765800.0</td>\n",
       "    </tr>\n",
       "    <tr>\n",
       "      <th>2016-11-29</th>\n",
       "      <td>YHOO</td>\n",
       "      <td>41.430000</td>\n",
       "      <td>41.599998</td>\n",
       "      <td>41.119999</td>\n",
       "      <td>41.830002</td>\n",
       "      <td>7246100.0</td>\n",
       "    </tr>\n",
       "    <tr>\n",
       "      <th>2016-11-30</th>\n",
       "      <td>YHOO</td>\n",
       "      <td>41.619999</td>\n",
       "      <td>41.020000</td>\n",
       "      <td>40.880001</td>\n",
       "      <td>41.669998</td>\n",
       "      <td>7624500.0</td>\n",
       "    </tr>\n",
       "    <tr>\n",
       "      <th>2016-12-01</th>\n",
       "      <td>YHOO</td>\n",
       "      <td>41.000000</td>\n",
       "      <td>39.630001</td>\n",
       "      <td>39.529999</td>\n",
       "      <td>41.040001</td>\n",
       "      <td>12614600.0</td>\n",
       "    </tr>\n",
       "    <tr>\n",
       "      <th>2016-12-02</th>\n",
       "      <td>YHOO</td>\n",
       "      <td>39.770000</td>\n",
       "      <td>40.070000</td>\n",
       "      <td>39.580002</td>\n",
       "      <td>40.320000</td>\n",
       "      <td>8568100.0</td>\n",
       "    </tr>\n",
       "    <tr>\n",
       "      <th>2016-12-05</th>\n",
       "      <td>YHOO</td>\n",
       "      <td>40.020000</td>\n",
       "      <td>40.200001</td>\n",
       "      <td>39.849998</td>\n",
       "      <td>40.389999</td>\n",
       "      <td>4401700.0</td>\n",
       "    </tr>\n",
       "    <tr>\n",
       "      <th>2016-12-06</th>\n",
       "      <td>YHOO</td>\n",
       "      <td>40.310001</td>\n",
       "      <td>39.970001</td>\n",
       "      <td>39.880001</td>\n",
       "      <td>40.419998</td>\n",
       "      <td>6943800.0</td>\n",
       "    </tr>\n",
       "    <tr>\n",
       "      <th>2016-12-07</th>\n",
       "      <td>YHOO</td>\n",
       "      <td>39.980000</td>\n",
       "      <td>40.520000</td>\n",
       "      <td>39.750000</td>\n",
       "      <td>40.570000</td>\n",
       "      <td>7199000.0</td>\n",
       "    </tr>\n",
       "    <tr>\n",
       "      <th>2016-12-08</th>\n",
       "      <td>YHOO</td>\n",
       "      <td>40.660000</td>\n",
       "      <td>41.410000</td>\n",
       "      <td>40.419998</td>\n",
       "      <td>41.599998</td>\n",
       "      <td>9169400.0</td>\n",
       "    </tr>\n",
       "    <tr>\n",
       "      <th>2016-12-09</th>\n",
       "      <td>YHOO</td>\n",
       "      <td>41.520000</td>\n",
       "      <td>41.759998</td>\n",
       "      <td>41.439999</td>\n",
       "      <td>41.799999</td>\n",
       "      <td>6836000.0</td>\n",
       "    </tr>\n",
       "    <tr>\n",
       "      <th>2016-12-12</th>\n",
       "      <td>YHOO</td>\n",
       "      <td>41.450001</td>\n",
       "      <td>41.299999</td>\n",
       "      <td>41.130001</td>\n",
       "      <td>41.529999</td>\n",
       "      <td>4451500.0</td>\n",
       "    </tr>\n",
       "    <tr>\n",
       "      <th>2016-12-13</th>\n",
       "      <td>YHOO</td>\n",
       "      <td>41.349998</td>\n",
       "      <td>41.470001</td>\n",
       "      <td>41.139999</td>\n",
       "      <td>41.790001</td>\n",
       "      <td>6500400.0</td>\n",
       "    </tr>\n",
       "    <tr>\n",
       "      <th>2016-12-14</th>\n",
       "      <td>YHOO</td>\n",
       "      <td>41.439999</td>\n",
       "      <td>40.910000</td>\n",
       "      <td>40.830002</td>\n",
       "      <td>41.529999</td>\n",
       "      <td>19296600.0</td>\n",
       "    </tr>\n",
       "    <tr>\n",
       "      <th>2016-12-15</th>\n",
       "      <td>YHOO</td>\n",
       "      <td>40.000000</td>\n",
       "      <td>38.410000</td>\n",
       "      <td>38.250000</td>\n",
       "      <td>40.000000</td>\n",
       "      <td>43656200.0</td>\n",
       "    </tr>\n",
       "    <tr>\n",
       "      <th>2016-12-16</th>\n",
       "      <td>YHOO</td>\n",
       "      <td>38.619999</td>\n",
       "      <td>38.610001</td>\n",
       "      <td>38.419998</td>\n",
       "      <td>39.220001</td>\n",
       "      <td>21447400.0</td>\n",
       "    </tr>\n",
       "    <tr>\n",
       "      <th>2016-12-19</th>\n",
       "      <td>YHOO</td>\n",
       "      <td>38.660000</td>\n",
       "      <td>38.419998</td>\n",
       "      <td>38.270000</td>\n",
       "      <td>38.790001</td>\n",
       "      <td>13607200.0</td>\n",
       "    </tr>\n",
       "    <tr>\n",
       "      <th>2016-12-20</th>\n",
       "      <td>YHOO</td>\n",
       "      <td>38.400002</td>\n",
       "      <td>39.160000</td>\n",
       "      <td>38.240002</td>\n",
       "      <td>39.180000</td>\n",
       "      <td>15007900.0</td>\n",
       "    </tr>\n",
       "    <tr>\n",
       "      <th>2016-12-21</th>\n",
       "      <td>YHOO</td>\n",
       "      <td>39.080002</td>\n",
       "      <td>39.150002</td>\n",
       "      <td>38.970001</td>\n",
       "      <td>39.320000</td>\n",
       "      <td>8263600.0</td>\n",
       "    </tr>\n",
       "    <tr>\n",
       "      <th>2016-12-22</th>\n",
       "      <td>YHOO</td>\n",
       "      <td>38.689999</td>\n",
       "      <td>38.500000</td>\n",
       "      <td>38.259998</td>\n",
       "      <td>38.790001</td>\n",
       "      <td>11685600.0</td>\n",
       "    </tr>\n",
       "    <tr>\n",
       "      <th>2016-12-23</th>\n",
       "      <td>YHOO</td>\n",
       "      <td>38.459999</td>\n",
       "      <td>38.660000</td>\n",
       "      <td>38.369999</td>\n",
       "      <td>38.810001</td>\n",
       "      <td>3840100.0</td>\n",
       "    </tr>\n",
       "    <tr>\n",
       "      <th>2016-12-26</th>\n",
       "      <td>NaN</td>\n",
       "      <td>NaN</td>\n",
       "      <td>NaN</td>\n",
       "      <td>NaN</td>\n",
       "      <td>NaN</td>\n",
       "      <td>NaN</td>\n",
       "    </tr>\n",
       "    <tr>\n",
       "      <th>2016-12-27</th>\n",
       "      <td>YHOO</td>\n",
       "      <td>38.590000</td>\n",
       "      <td>38.919998</td>\n",
       "      <td>38.500000</td>\n",
       "      <td>39.070000</td>\n",
       "      <td>4240300.0</td>\n",
       "    </tr>\n",
       "    <tr>\n",
       "      <th>2016-12-28</th>\n",
       "      <td>YHOO</td>\n",
       "      <td>39.119999</td>\n",
       "      <td>38.730000</td>\n",
       "      <td>38.709999</td>\n",
       "      <td>39.220001</td>\n",
       "      <td>4393500.0</td>\n",
       "    </tr>\n",
       "    <tr>\n",
       "      <th>2016-12-29</th>\n",
       "      <td>YHOO</td>\n",
       "      <td>38.759998</td>\n",
       "      <td>38.639999</td>\n",
       "      <td>38.480000</td>\n",
       "      <td>38.930000</td>\n",
       "      <td>4170200.0</td>\n",
       "    </tr>\n",
       "    <tr>\n",
       "      <th>2016-12-30</th>\n",
       "      <td>YHOO</td>\n",
       "      <td>38.720001</td>\n",
       "      <td>38.669998</td>\n",
       "      <td>38.430000</td>\n",
       "      <td>39.000000</td>\n",
       "      <td>6431600.0</td>\n",
       "    </tr>\n",
       "  </tbody>\n",
       "</table>\n",
       "</div>"
      ],
      "text/plain": [
       "           symbol       open      close        low       high      volume\n",
       "date                                                                     \n",
       "2016-11-21   YHOO  41.439999  41.110001  40.939999  41.480000  11338000.0\n",
       "2016-11-22   YHOO  41.200001  41.009998  40.830002  41.400002   8881200.0\n",
       "2016-11-23   YHOO  40.910000  40.959999  40.549999  40.980000   3634900.0\n",
       "2016-11-24    NaN        NaN        NaN        NaN        NaN         NaN\n",
       "2016-11-25   YHOO  41.080002  40.869999  40.709999  41.080002   2586900.0\n",
       "2016-11-28   YHOO  40.849998  41.450001  40.740002  41.700001   6765800.0\n",
       "2016-11-29   YHOO  41.430000  41.599998  41.119999  41.830002   7246100.0\n",
       "2016-11-30   YHOO  41.619999  41.020000  40.880001  41.669998   7624500.0\n",
       "2016-12-01   YHOO  41.000000  39.630001  39.529999  41.040001  12614600.0\n",
       "2016-12-02   YHOO  39.770000  40.070000  39.580002  40.320000   8568100.0\n",
       "2016-12-05   YHOO  40.020000  40.200001  39.849998  40.389999   4401700.0\n",
       "2016-12-06   YHOO  40.310001  39.970001  39.880001  40.419998   6943800.0\n",
       "2016-12-07   YHOO  39.980000  40.520000  39.750000  40.570000   7199000.0\n",
       "2016-12-08   YHOO  40.660000  41.410000  40.419998  41.599998   9169400.0\n",
       "2016-12-09   YHOO  41.520000  41.759998  41.439999  41.799999   6836000.0\n",
       "2016-12-12   YHOO  41.450001  41.299999  41.130001  41.529999   4451500.0\n",
       "2016-12-13   YHOO  41.349998  41.470001  41.139999  41.790001   6500400.0\n",
       "2016-12-14   YHOO  41.439999  40.910000  40.830002  41.529999  19296600.0\n",
       "2016-12-15   YHOO  40.000000  38.410000  38.250000  40.000000  43656200.0\n",
       "2016-12-16   YHOO  38.619999  38.610001  38.419998  39.220001  21447400.0\n",
       "2016-12-19   YHOO  38.660000  38.419998  38.270000  38.790001  13607200.0\n",
       "2016-12-20   YHOO  38.400002  39.160000  38.240002  39.180000  15007900.0\n",
       "2016-12-21   YHOO  39.080002  39.150002  38.970001  39.320000   8263600.0\n",
       "2016-12-22   YHOO  38.689999  38.500000  38.259998  38.790001  11685600.0\n",
       "2016-12-23   YHOO  38.459999  38.660000  38.369999  38.810001   3840100.0\n",
       "2016-12-26    NaN        NaN        NaN        NaN        NaN         NaN\n",
       "2016-12-27   YHOO  38.590000  38.919998  38.500000  39.070000   4240300.0\n",
       "2016-12-28   YHOO  39.119999  38.730000  38.709999  39.220001   4393500.0\n",
       "2016-12-29   YHOO  38.759998  38.639999  38.480000  38.930000   4170200.0\n",
       "2016-12-30   YHOO  38.720001  38.669998  38.430000  39.000000   6431600.0"
      ]
     },
     "execution_count": 23,
     "metadata": {},
     "output_type": "execute_result"
    }
   ],
   "source": [
    "yahoo_data.tail(30)"
   ]
  },
  {
   "cell_type": "code",
   "execution_count": 24,
   "metadata": {},
   "outputs": [
    {
     "data": {
      "text/plain": [
       "symbol    63\n",
       "open      63\n",
       "close     63\n",
       "low       63\n",
       "high      63\n",
       "volume    63\n",
       "dtype: int64"
      ]
     },
     "execution_count": 24,
     "metadata": {},
     "output_type": "execute_result"
    }
   ],
   "source": [
    "yahoo_data.isnull().sum()"
   ]
  },
  {
   "cell_type": "code",
   "execution_count": 25,
   "metadata": {},
   "outputs": [],
   "source": [
    "null_data=yahoo_data[yahoo_data.isnull().any(axis=1)] # find null values and store in null_data "
   ]
  },
  {
   "cell_type": "code",
   "execution_count": 26,
   "metadata": {},
   "outputs": [
    {
     "data": {
      "text/html": [
       "<div>\n",
       "<style scoped>\n",
       "    .dataframe tbody tr th:only-of-type {\n",
       "        vertical-align: middle;\n",
       "    }\n",
       "\n",
       "    .dataframe tbody tr th {\n",
       "        vertical-align: top;\n",
       "    }\n",
       "\n",
       "    .dataframe thead th {\n",
       "        text-align: right;\n",
       "    }\n",
       "</style>\n",
       "<table border=\"1\" class=\"dataframe\">\n",
       "  <thead>\n",
       "    <tr style=\"text-align: right;\">\n",
       "      <th></th>\n",
       "      <th>symbol</th>\n",
       "      <th>open</th>\n",
       "      <th>close</th>\n",
       "      <th>low</th>\n",
       "      <th>high</th>\n",
       "      <th>volume</th>\n",
       "    </tr>\n",
       "    <tr>\n",
       "      <th>date</th>\n",
       "      <th></th>\n",
       "      <th></th>\n",
       "      <th></th>\n",
       "      <th></th>\n",
       "      <th></th>\n",
       "      <th></th>\n",
       "    </tr>\n",
       "  </thead>\n",
       "  <tbody>\n",
       "    <tr>\n",
       "      <th>2010-01-18</th>\n",
       "      <td>NaN</td>\n",
       "      <td>NaN</td>\n",
       "      <td>NaN</td>\n",
       "      <td>NaN</td>\n",
       "      <td>NaN</td>\n",
       "      <td>NaN</td>\n",
       "    </tr>\n",
       "    <tr>\n",
       "      <th>2010-02-15</th>\n",
       "      <td>NaN</td>\n",
       "      <td>NaN</td>\n",
       "      <td>NaN</td>\n",
       "      <td>NaN</td>\n",
       "      <td>NaN</td>\n",
       "      <td>NaN</td>\n",
       "    </tr>\n",
       "    <tr>\n",
       "      <th>2010-04-02</th>\n",
       "      <td>NaN</td>\n",
       "      <td>NaN</td>\n",
       "      <td>NaN</td>\n",
       "      <td>NaN</td>\n",
       "      <td>NaN</td>\n",
       "      <td>NaN</td>\n",
       "    </tr>\n",
       "    <tr>\n",
       "      <th>2010-05-31</th>\n",
       "      <td>NaN</td>\n",
       "      <td>NaN</td>\n",
       "      <td>NaN</td>\n",
       "      <td>NaN</td>\n",
       "      <td>NaN</td>\n",
       "      <td>NaN</td>\n",
       "    </tr>\n",
       "    <tr>\n",
       "      <th>2010-07-05</th>\n",
       "      <td>NaN</td>\n",
       "      <td>NaN</td>\n",
       "      <td>NaN</td>\n",
       "      <td>NaN</td>\n",
       "      <td>NaN</td>\n",
       "      <td>NaN</td>\n",
       "    </tr>\n",
       "  </tbody>\n",
       "</table>\n",
       "</div>"
      ],
      "text/plain": [
       "           symbol  open  close  low  high  volume\n",
       "date                                             \n",
       "2010-01-18    NaN   NaN    NaN  NaN   NaN     NaN\n",
       "2010-02-15    NaN   NaN    NaN  NaN   NaN     NaN\n",
       "2010-04-02    NaN   NaN    NaN  NaN   NaN     NaN\n",
       "2010-05-31    NaN   NaN    NaN  NaN   NaN     NaN\n",
       "2010-07-05    NaN   NaN    NaN  NaN   NaN     NaN"
      ]
     },
     "execution_count": 26,
     "metadata": {},
     "output_type": "execute_result"
    }
   ],
   "source": [
    "null_data.head(5)"
   ]
  },
  {
   "cell_type": "code",
   "execution_count": 27,
   "metadata": {},
   "outputs": [
    {
     "data": {
      "text/plain": [
       "(63, 6)"
      ]
     },
     "execution_count": 27,
     "metadata": {},
     "output_type": "execute_result"
    }
   ],
   "source": [
    "null_data.shape"
   ]
  },
  {
   "cell_type": "code",
   "execution_count": 28,
   "metadata": {},
   "outputs": [
    {
     "data": {
      "text/plain": [
       "pandas.core.indexes.datetimes.DatetimeIndex"
      ]
     },
     "execution_count": 28,
     "metadata": {},
     "output_type": "execute_result"
    }
   ],
   "source": [
    "type(null_data.index)"
   ]
  },
  {
   "cell_type": "code",
   "execution_count": 29,
   "metadata": {},
   "outputs": [],
   "source": [
    "null_dates=null_data.index.tolist() #convert null_dates to list"
   ]
  },
  {
   "cell_type": "code",
   "execution_count": 30,
   "metadata": {},
   "outputs": [
    {
     "data": {
      "text/plain": [
       "list"
      ]
     },
     "execution_count": 30,
     "metadata": {},
     "output_type": "execute_result"
    }
   ],
   "source": [
    "type(null_dates)"
   ]
  },
  {
   "cell_type": "code",
   "execution_count": 31,
   "metadata": {},
   "outputs": [
    {
     "data": {
      "text/plain": [
       "True"
      ]
     },
     "execution_count": 31,
     "metadata": {},
     "output_type": "execute_result"
    }
   ],
   "source": [
    "null_data.shape==(63, 6)"
   ]
  },
  {
   "cell_type": "code",
   "execution_count": 32,
   "metadata": {},
   "outputs": [
    {
     "name": "stdout",
     "output_type": "stream",
     "text": [
      "[Timestamp('2012-10-29 00:00:00'), Timestamp('2012-10-30 00:00:00')]\n"
     ]
    }
   ],
   "source": [
    "# Manually check if any of the null dates matches with NYC holidays, If yes then put that date in holidays list. Remove holidays \n",
    "# from null_data list to get non-holidays list.\n",
    "\n",
    "import calendar\n",
    "import datetime\n",
    "\n",
    "holidays = []\n",
    "\n",
    "for date in null_dates:\n",
    "    week, day, month, year = date.weekday(), date.day, date.month, date.year\n",
    "    week_day = calendar.day_name[week]\n",
    "\n",
    "    if month==1:\n",
    "        if day==1:\n",
    "            # New year day\n",
    "            holidays.append(date)\n",
    "        elif day==2 and week_day=='Monday':\n",
    "            # Observed New Year Day\n",
    "            holidays.append(date)\n",
    "        elif day>=15 and day<=21 and week_day=='Monday':\n",
    "            # Martin Luther King, Jr. Day\n",
    "            holidays.append(date)\n",
    "\n",
    "    elif month==2:\n",
    "        # Washington's Birthday\n",
    "        if day>=15 and day<=21 and week_day=='Monday':\n",
    "            holidays.append(date)\n",
    "\n",
    "    elif month==5:\n",
    "        # Memorial day\n",
    "        if day>=25 and day<=31 and week_day=='Monday':\n",
    "            holidays.append(date)\n",
    "\n",
    "    elif month==7:\n",
    "        # Independence day\n",
    "        if day==4:\n",
    "            holidays.append(date)\n",
    "        # Observed Independence  Day\n",
    "        elif day==5 and week_day=='Monday':\n",
    "            holidays.append(date)\n",
    "        elif day==3 and week_day=='Friday':\n",
    "            holidays.append(date)\n",
    "\n",
    "    elif month == 9:\n",
    "        # Labour day\n",
    "        if day>=1 and day<=7 and week_day=='Monday':\n",
    "            holidays.append(date)\n",
    "\n",
    "    elif month==11:\n",
    "        # Thanksgiving Day\n",
    "        if week_day=='Thursday' and day>=22 and day<=28:\n",
    "            holidays.append(date)\n",
    "\n",
    "    elif month==12:\n",
    "        # Christmas Day\n",
    "        if day==25:\n",
    "            holidays.append(date)\n",
    "        # Observed Christmas Day\n",
    "        elif day==24 and week_day=='Friday':\n",
    "            holidays.append(date)\n",
    "        elif day==26 and week_day=='Monday':\n",
    "            holidays.append(date)\n",
    "\n",
    "good_fridays = [ datetime.date(2010,4,2), datetime.date(2011,4,22), datetime.date(2012,4,6), datetime.date(2013,3,29), datetime.date(2014,4,18), datetime.date(2015,4,3), datetime.date(2016,3,25) ]\n",
    "holidays = holidays + [pd.to_datetime(date) for date in good_fridays]\n",
    "\n",
    "\n",
    "non_holidays = [x for x in null_dates if x not in holidays] \n",
    "print(non_holidays) # Data is missing only for 2 dates."
   ]
  },
  {
   "cell_type": "code",
   "execution_count": 33,
   "metadata": {},
   "outputs": [
    {
     "name": "stdout",
     "output_type": "stream",
     "text": [
      "(1825, 6)\n"
     ]
    }
   ],
   "source": [
    "print(yahoo_data.shape)"
   ]
  },
  {
   "cell_type": "code",
   "execution_count": 34,
   "metadata": {},
   "outputs": [],
   "source": [
    "modified_df=yahoo_data.drop(holidays) # Remove holidays from dataframe"
   ]
  },
  {
   "cell_type": "code",
   "execution_count": 35,
   "metadata": {},
   "outputs": [
    {
     "data": {
      "text/plain": [
       "(1764, 6)"
      ]
     },
     "execution_count": 35,
     "metadata": {},
     "output_type": "execute_result"
    }
   ],
   "source": [
    "modified_df.shape"
   ]
  },
  {
   "cell_type": "code",
   "execution_count": 36,
   "metadata": {},
   "outputs": [
    {
     "data": {
      "text/plain": [
       "symbol    2\n",
       "open      2\n",
       "close     2\n",
       "low       2\n",
       "high      2\n",
       "volume    2\n",
       "dtype: int64"
      ]
     },
     "execution_count": 36,
     "metadata": {},
     "output_type": "execute_result"
    }
   ],
   "source": [
    "modified_df.isnull().sum()"
   ]
  },
  {
   "cell_type": "code",
   "execution_count": 37,
   "metadata": {},
   "outputs": [
    {
     "data": {
      "text/plain": [
       "symbol    2\n",
       "open      2\n",
       "close     2\n",
       "low       2\n",
       "high      2\n",
       "volume    2\n",
       "dtype: int64"
      ]
     },
     "execution_count": 37,
     "metadata": {},
     "output_type": "execute_result"
    }
   ],
   "source": [
    "modified_df.isna().sum() #  check number of null values after removing holidays "
   ]
  },
  {
   "cell_type": "code",
   "execution_count": 38,
   "metadata": {},
   "outputs": [],
   "source": [
    "modified_df.fillna(method='bfill',axis='rows',inplace=True) #fill missing/null values "
   ]
  },
  {
   "cell_type": "code",
   "execution_count": 39,
   "metadata": {},
   "outputs": [
    {
     "data": {
      "text/plain": [
       "symbol    0\n",
       "open      0\n",
       "close     0\n",
       "low       0\n",
       "high      0\n",
       "volume    0\n",
       "dtype: int64"
      ]
     },
     "execution_count": 39,
     "metadata": {},
     "output_type": "execute_result"
    }
   ],
   "source": [
    "modified_df.isnull().sum() # after fillna() null values are filled using 'bfill' method"
   ]
  },
  {
   "cell_type": "markdown",
   "metadata": {},
   "source": [
    "### Visualize YAHOO data"
   ]
  },
  {
   "cell_type": "code",
   "execution_count": 40,
   "metadata": {},
   "outputs": [
    {
     "data": {
      "image/png": "[encoded data removed]",
      "text/plain": [
       "<Figure size 432x288 with 1 Axes>"
      ]
     },
     "metadata": {
      "needs_background": "light"
     },
     "output_type": "display_data"
    }
   ],
   "source": [
    "def plotter(code):\n",
    "    global closing_stock\n",
    "    plt.subplot(211)\n",
    "    company_close = modified_df[modified_df['symbol']==code]\n",
    "    company_close = company_close.close.values.astype('float32')\n",
    "    company_close = company_close.reshape(-1, 1)\n",
    "    closing_stock = company_close\n",
    "    plt.xlabel('Time')\n",
    "    plt.ylabel(code + \" close stock prices\")\n",
    "    plt.title('prices Vs Time')\n",
    "    plt.grid(True)\n",
    "    plt.plot(company_close , 'b')\n",
    "    plt.show()\n",
    "\n",
    "plotter(\"YHOO\")"
   ]
  },
  {
   "cell_type": "markdown",
   "metadata": {},
   "source": [
    "### Split data into train , validation and test set"
   ]
  },
  {
   "cell_type": "code",
   "execution_count": 41,
   "metadata": {},
   "outputs": [],
   "source": [
    "n_train=int(len(closing_stock)* 0.80)\n",
    "n_remaining=len(closing_stock) - n_train\n",
    "n_val=int(n_remaining*0.50)\n",
    "n_test=int(n_remaining-n_val)"
   ]
  },
  {
   "cell_type": "code",
   "execution_count": 42,
   "metadata": {},
   "outputs": [
    {
     "name": "stdout",
     "output_type": "stream",
     "text": [
      "Train samples: 1411 Validation Samples: 176 Test Samples: 177\n"
     ]
    }
   ],
   "source": [
    "print(\"Train samples:\",n_train, \"Validation Samples:\",n_val,\"Test Samples:\", n_test )\n"
   ]
  },
  {
   "cell_type": "code",
   "execution_count": 43,
   "metadata": {},
   "outputs": [
    {
     "name": "stdout",
     "output_type": "stream",
     "text": [
      "(1411, 1)\n"
     ]
    }
   ],
   "source": [
    "train_data=closing_stock[0:n_train]\n",
    "print(train_data.shape)"
   ]
  },
  {
   "cell_type": "code",
   "execution_count": 44,
   "metadata": {},
   "outputs": [
    {
     "name": "stdout",
     "output_type": "stream",
     "text": [
      "(176, 1)\n"
     ]
    }
   ],
   "source": [
    "val_data=closing_stock[n_train:n_train+n_val]\n",
    "print(val_data.shape)"
   ]
  },
  {
   "cell_type": "code",
   "execution_count": 45,
   "metadata": {},
   "outputs": [
    {
     "name": "stdout",
     "output_type": "stream",
     "text": [
      "(177, 1)\n"
     ]
    }
   ],
   "source": [
    "test_data=closing_stock[n_train+n_val:]\n",
    "print(test_data.shape)"
   ]
  },
  {
   "cell_type": "markdown",
   "metadata": {},
   "source": [
    "### Feature scaling"
   ]
  },
  {
   "cell_type": "code",
   "execution_count": 46,
   "metadata": {},
   "outputs": [],
   "source": [
    "from sklearn.preprocessing import MinMaxScaler"
   ]
  },
  {
   "cell_type": "code",
   "execution_count": 47,
   "metadata": {},
   "outputs": [],
   "source": [
    "scaler=MinMaxScaler(feature_range=(0, 1))"
   ]
  },
  {
   "cell_type": "code",
   "execution_count": 48,
   "metadata": {},
   "outputs": [],
   "source": [
    "train=scaler.fit_transform(train_data)\n",
    "val=scaler.transform(val_data)\n",
    "test=scaler.transform(test_data)"
   ]
  },
  {
   "cell_type": "markdown",
   "metadata": {},
   "source": [
    "### Create datasets required by GRU algorithm"
   ]
  },
  {
   "cell_type": "code",
   "execution_count": 49,
   "metadata": {},
   "outputs": [],
   "source": [
    "def create_dataset(data , n_features):\n",
    "    dataX, dataY = [], []\n",
    "    for i in range(len(data)-n_features-1):\n",
    "        a = data[i:(i+n_features), 0]\n",
    "        dataX.append(a)\n",
    "        dataY.append(data[i + n_features, 0])\n",
    "    return np.array(dataX), np.array(dataY)"
   ]
  },
  {
   "cell_type": "code",
   "execution_count": 50,
   "metadata": {},
   "outputs": [],
   "source": [
    "n_features=2"
   ]
  },
  {
   "cell_type": "code",
   "execution_count": 51,
   "metadata": {},
   "outputs": [],
   "source": [
    "trainX,trainY=create_dataset(train,n_features)"
   ]
  },
  {
   "cell_type": "code",
   "execution_count": 52,
   "metadata": {},
   "outputs": [],
   "source": [
    "valX,valY=create_dataset(val,n_features)"
   ]
  },
  {
   "cell_type": "code",
   "execution_count": 53,
   "metadata": {},
   "outputs": [],
   "source": [
    "testX,testY=create_dataset(test,n_features)"
   ]
  },
  {
   "cell_type": "code",
   "execution_count": 54,
   "metadata": {},
   "outputs": [
    {
     "name": "stdout",
     "output_type": "stream",
     "text": [
      "(1408, 2) (1408,) (173, 2) (173,) (174, 2) (174,)\n"
     ]
    }
   ],
   "source": [
    "print(trainX.shape , trainY.shape , valX.shape , valY.shape, testX.shape , testY.shape)"
   ]
  },
  {
   "cell_type": "code",
   "execution_count": 55,
   "metadata": {},
   "outputs": [],
   "source": [
    "trainX = trainX.reshape(trainX.shape[0] , 1 ,trainX.shape[1])\n",
    "valX = valX.reshape(valX.shape[0] , 1 ,valX.shape[1])\n",
    "testX = testX.reshape(testX.shape[0] , 1 ,testX.shape[1])"
   ]
  },
  {
   "cell_type": "code",
   "execution_count": 56,
   "metadata": {},
   "outputs": [
    {
     "name": "stdout",
     "output_type": "stream",
     "text": [
      "(1408, 1, 2) (1408,) (173, 1, 2) (173,) (174, 1, 2) (174,)\n"
     ]
    }
   ],
   "source": [
    "print(trainX.shape , trainY.shape , valX.shape , valY.shape, testX.shape , testY.shape)"
   ]
  },
  {
   "cell_type": "markdown",
   "metadata": {},
   "source": [
    "### Build the model using GRU algorithm"
   ]
  },
  {
   "cell_type": "code",
   "execution_count": 57,
   "metadata": {},
   "outputs": [],
   "source": [
    "import tensorflow as tf"
   ]
  },
  {
   "cell_type": "code",
   "execution_count": 65,
   "metadata": {},
   "outputs": [],
   "source": [
    "tf.random.set_seed(42)\n",
    "from tensorflow import keras\n",
    "from tensorflow.keras import layers\n",
    "from tensorflow.keras.optimizers import Adam\n"
   ]
  },
  {
   "cell_type": "code",
   "execution_count": 66,
   "metadata": {},
   "outputs": [],
   "source": [
    "model=keras.Sequential()"
   ]
  },
  {
   "cell_type": "code",
   "execution_count": 67,
   "metadata": {},
   "outputs": [],
   "source": [
    "# First GRU layer\n",
    "model.add(layers.GRU(units=100, return_sequences=True, input_shape=(1,n_features), activation='tanh'))\n",
    "model.add(layers.Dropout(0.2))\n",
    "\n",
    "# Second GRU layer\n",
    "model.add(layers.GRU(units=150, return_sequences=True, input_shape=(1,n_features), activation='tanh'))\n",
    "model.add(layers.Dropout(0.2))\n",
    "\n",
    "# Third GRU layer\n",
    "model.add(layers.GRU(units=100, activation='tanh'))\n",
    "model.add(layers.Dropout(0.2))\n",
    "\n",
    "# The output layer\n",
    "model.add(layers.Dense(units=1, kernel_initializer='he_uniform', activation='linear'))"
   ]
  },
  {
   "cell_type": "code",
   "execution_count": 70,
   "metadata": {},
   "outputs": [],
   "source": [
    "model.compile(loss='mean_squared_error',optimizer='Adam',metrics=['mean_squared_error'])"
   ]
  },
  {
   "cell_type": "code",
   "execution_count": 69,
   "metadata": {},
   "outputs": [
    {
     "name": "stdout",
     "output_type": "stream",
     "text": [
      "Model: \"sequential_1\"\n",
      "_________________________________________________________________\n",
      "Layer (type)                 Output Shape              Param #   \n",
      "=================================================================\n",
      "gru_6 (GRU)                  (None, 1, 100)            31200     \n",
      "_________________________________________________________________\n",
      "dropout_5 (Dropout)          (None, 1, 100)            0         \n",
      "_________________________________________________________________\n",
      "gru_7 (GRU)                  (None, 1, 150)            113400    \n",
      "_________________________________________________________________\n",
      "dropout_6 (Dropout)          (None, 1, 150)            0         \n",
      "_________________________________________________________________\n",
      "gru_8 (GRU)                  (None, 100)               75600     \n",
      "_________________________________________________________________\n",
      "dropout_7 (Dropout)          (None, 100)               0         \n",
      "_________________________________________________________________\n",
      "dense (Dense)                (None, 1)                 101       \n",
      "=================================================================\n",
      "Total params: 220,301\n",
      "Trainable params: 220,301\n",
      "Non-trainable params: 0\n",
      "_________________________________________________________________\n",
      "None\n"
     ]
    }
   ],
   "source": [
    "print(model.summary())"
   ]
  },
  {
   "cell_type": "code",
   "execution_count": 71,
   "metadata": {},
   "outputs": [
    {
     "name": "stdout",
     "output_type": "stream",
     "text": [
      "Train on 1408 samples, validate on 173 samples\n",
      "Epoch 1/100\n",
      "1408/1408 [==============================] - 5s 4ms/sample - loss: 0.0923 - mean_squared_error: 0.0923 - val_loss: 0.0013 - val_mean_squared_error: 0.0013\n",
      "Epoch 2/100\n",
      "1408/1408 [==============================] - 0s 89us/sample - loss: 0.0280 - mean_squared_error: 0.0280 - val_loss: 0.0076 - val_mean_squared_error: 0.0076\n",
      "Epoch 3/100\n",
      "1408/1408 [==============================] - 0s 90us/sample - loss: 0.0109 - mean_squared_error: 0.0109 - val_loss: 6.7740e-04 - val_mean_squared_error: 6.7740e-04\n",
      "Epoch 4/100\n",
      "1408/1408 [==============================] - 0s 87us/sample - loss: 0.0037 - mean_squared_error: 0.0037 - val_loss: 0.0017 - val_mean_squared_error: 0.0017\n",
      "Epoch 5/100\n",
      "1408/1408 [==============================] - 0s 93us/sample - loss: 0.0031 - mean_squared_error: 0.0031 - val_loss: 6.5164e-04 - val_mean_squared_error: 6.5164e-04\n",
      "Epoch 6/100\n",
      "1408/1408 [==============================] - 0s 87us/sample - loss: 0.0024 - mean_squared_error: 0.0024 - val_loss: 9.3277e-04 - val_mean_squared_error: 9.3277e-04\n",
      "Epoch 7/100\n",
      "1408/1408 [==============================] - 0s 89us/sample - loss: 0.0023 - mean_squared_error: 0.0023 - val_loss: 4.8873e-04 - val_mean_squared_error: 4.8873e-04\n",
      "Epoch 8/100\n",
      "1408/1408 [==============================] - 0s 87us/sample - loss: 0.0024 - mean_squared_error: 0.0024 - val_loss: 3.8286e-04 - val_mean_squared_error: 3.8286e-04\n",
      "Epoch 9/100\n",
      "1408/1408 [==============================] - 0s 88us/sample - loss: 0.0019 - mean_squared_error: 0.0019 - val_loss: 4.7924e-04 - val_mean_squared_error: 4.7924e-04\n",
      "Epoch 10/100\n",
      "1408/1408 [==============================] - 0s 88us/sample - loss: 0.0018 - mean_squared_error: 0.0018 - val_loss: 3.7905e-04 - val_mean_squared_error: 3.7905e-04\n",
      "Epoch 11/100\n",
      "1408/1408 [==============================] - 0s 84us/sample - loss: 0.0019 - mean_squared_error: 0.0019 - val_loss: 4.5129e-04 - val_mean_squared_error: 4.5129e-04\n",
      "Epoch 12/100\n",
      "1408/1408 [==============================] - 0s 90us/sample - loss: 0.0018 - mean_squared_error: 0.0018 - val_loss: 3.9373e-04 - val_mean_squared_error: 3.9373e-04\n",
      "Epoch 13/100\n",
      "1408/1408 [==============================] - 0s 87us/sample - loss: 0.0020 - mean_squared_error: 0.0020 - val_loss: 5.1451e-04 - val_mean_squared_error: 5.1451e-04\n",
      "Epoch 14/100\n",
      "1408/1408 [==============================] - 0s 91us/sample - loss: 0.0019 - mean_squared_error: 0.0019 - val_loss: 4.1698e-04 - val_mean_squared_error: 4.1698e-04\n",
      "Epoch 15/100\n",
      "1408/1408 [==============================] - 0s 86us/sample - loss: 0.0017 - mean_squared_error: 0.0017 - val_loss: 3.8506e-04 - val_mean_squared_error: 3.8506e-04\n",
      "Epoch 16/100\n",
      "1408/1408 [==============================] - 0s 95us/sample - loss: 0.0016 - mean_squared_error: 0.0016 - val_loss: 3.7991e-04 - val_mean_squared_error: 3.7991e-04\n",
      "Epoch 17/100\n",
      "1408/1408 [==============================] - 0s 85us/sample - loss: 0.0017 - mean_squared_error: 0.0017 - val_loss: 6.1062e-04 - val_mean_squared_error: 6.1062e-04\n",
      "Epoch 18/100\n",
      "1408/1408 [==============================] - 0s 93us/sample - loss: 0.0017 - mean_squared_error: 0.0017 - val_loss: 3.9891e-04 - val_mean_squared_error: 3.9891e-04\n",
      "Epoch 19/100\n",
      "1408/1408 [==============================] - 0s 93us/sample - loss: 0.0016 - mean_squared_error: 0.0016 - val_loss: 3.8985e-04 - val_mean_squared_error: 3.8985e-04\n",
      "Epoch 20/100\n",
      "1408/1408 [==============================] - 0s 91us/sample - loss: 0.0017 - mean_squared_error: 0.0017 - val_loss: 3.7900e-04 - val_mean_squared_error: 3.7900e-04\n",
      "Epoch 21/100\n",
      "1408/1408 [==============================] - 0s 93us/sample - loss: 0.0015 - mean_squared_error: 0.0015 - val_loss: 4.1819e-04 - val_mean_squared_error: 4.1819e-04\n",
      "Epoch 22/100\n",
      "1408/1408 [==============================] - 0s 96us/sample - loss: 0.0015 - mean_squared_error: 0.0015 - val_loss: 3.9616e-04 - val_mean_squared_error: 3.9616e-04\n",
      "Epoch 23/100\n",
      "1408/1408 [==============================] - 0s 92us/sample - loss: 0.0014 - mean_squared_error: 0.0014 - val_loss: 3.8066e-04 - val_mean_squared_error: 3.8066e-04\n",
      "Epoch 24/100\n",
      "1408/1408 [==============================] - 0s 94us/sample - loss: 0.0014 - mean_squared_error: 0.0014 - val_loss: 3.6844e-04 - val_mean_squared_error: 3.6844e-04\n",
      "Epoch 25/100\n",
      "1408/1408 [==============================] - 0s 91us/sample - loss: 0.0014 - mean_squared_error: 0.0014 - val_loss: 5.5818e-04 - val_mean_squared_error: 5.5818e-04\n",
      "Epoch 26/100\n",
      "1408/1408 [==============================] - 0s 90us/sample - loss: 0.0016 - mean_squared_error: 0.0016 - val_loss: 5.5854e-04 - val_mean_squared_error: 5.5854e-04\n",
      "Epoch 27/100\n",
      "1408/1408 [==============================] - 0s 89us/sample - loss: 0.0017 - mean_squared_error: 0.0017 - val_loss: 4.4815e-04 - val_mean_squared_error: 4.4815e-04\n",
      "Epoch 28/100\n",
      "1408/1408 [==============================] - 0s 89us/sample - loss: 0.0014 - mean_squared_error: 0.0014 - val_loss: 5.6340e-04 - val_mean_squared_error: 5.6340e-04\n",
      "Epoch 29/100\n",
      "1408/1408 [==============================] - 0s 91us/sample - loss: 0.0015 - mean_squared_error: 0.0015 - val_loss: 3.6912e-04 - val_mean_squared_error: 3.6912e-04\n",
      "Epoch 30/100\n",
      "1408/1408 [==============================] - 0s 94us/sample - loss: 0.0013 - mean_squared_error: 0.0013 - val_loss: 3.6400e-04 - val_mean_squared_error: 3.6400e-04\n",
      "Epoch 31/100\n",
      "1408/1408 [==============================] - 0s 91us/sample - loss: 0.0013 - mean_squared_error: 0.0013 - val_loss: 3.6513e-04 - val_mean_squared_error: 3.6513e-04\n",
      "Epoch 32/100\n",
      "1408/1408 [==============================] - 0s 92us/sample - loss: 0.0014 - mean_squared_error: 0.0014 - val_loss: 3.8296e-04 - val_mean_squared_error: 3.8296e-04\n",
      "Epoch 33/100\n",
      "1408/1408 [==============================] - 0s 88us/sample - loss: 0.0014 - mean_squared_error: 0.0014 - val_loss: 3.7188e-04 - val_mean_squared_error: 3.7188e-04\n",
      "Epoch 34/100\n",
      "1408/1408 [==============================] - 0s 87us/sample - loss: 0.0014 - mean_squared_error: 0.0014 - val_loss: 4.0562e-04 - val_mean_squared_error: 4.0562e-04\n",
      "Epoch 35/100\n",
      "1408/1408 [==============================] - 0s 85us/sample - loss: 0.0013 - mean_squared_error: 0.0013 - val_loss: 4.2127e-04 - val_mean_squared_error: 4.2127e-04\n",
      "Epoch 36/100\n",
      "1408/1408 [==============================] - 0s 85us/sample - loss: 0.0014 - mean_squared_error: 0.0014 - val_loss: 5.4754e-04 - val_mean_squared_error: 5.4754e-04\n",
      "Epoch 37/100\n",
      "1408/1408 [==============================] - 0s 87us/sample - loss: 0.0013 - mean_squared_error: 0.0013 - val_loss: 3.6821e-04 - val_mean_squared_error: 3.6821e-04\n",
      "Epoch 38/100\n",
      "1408/1408 [==============================] - 0s 95us/sample - loss: 0.0011 - mean_squared_error: 0.0011 - val_loss: 3.9280e-04 - val_mean_squared_error: 3.9280e-04\n",
      "Epoch 39/100\n",
      "1408/1408 [==============================] - 0s 89us/sample - loss: 0.0013 - mean_squared_error: 0.0013 - val_loss: 5.4296e-04 - val_mean_squared_error: 5.4296e-04\n",
      "Epoch 40/100\n",
      "1408/1408 [==============================] - 0s 87us/sample - loss: 0.0014 - mean_squared_error: 0.0014 - val_loss: 5.0995e-04 - val_mean_squared_error: 5.0995e-04\n",
      "Epoch 41/100\n",
      "1408/1408 [==============================] - 0s 87us/sample - loss: 0.0013 - mean_squared_error: 0.0013 - val_loss: 8.2334e-04 - val_mean_squared_error: 8.2334e-04\n",
      "Epoch 42/100\n",
      "1408/1408 [==============================] - 0s 89us/sample - loss: 0.0014 - mean_squared_error: 0.0014 - val_loss: 7.4328e-04 - val_mean_squared_error: 7.4328e-04\n",
      "Epoch 43/100\n",
      "1408/1408 [==============================] - 0s 87us/sample - loss: 0.0012 - mean_squared_error: 0.0012 - val_loss: 3.8254e-04 - val_mean_squared_error: 3.8254e-04\n",
      "Epoch 44/100\n",
      "1408/1408 [==============================] - 0s 91us/sample - loss: 0.0011 - mean_squared_error: 0.0011 - val_loss: 3.7607e-04 - val_mean_squared_error: 3.7607e-04\n",
      "Epoch 45/100\n",
      "1408/1408 [==============================] - 0s 86us/sample - loss: 0.0010 - mean_squared_error: 0.0010 - val_loss: 3.5529e-04 - val_mean_squared_error: 3.5529e-04\n",
      "Epoch 46/100\n",
      "1408/1408 [==============================] - 0s 84us/sample - loss: 0.0011 - mean_squared_error: 0.0011 - val_loss: 3.6268e-04 - val_mean_squared_error: 3.6268e-04\n",
      "Epoch 47/100\n",
      "1408/1408 [==============================] - 0s 84us/sample - loss: 0.0011 - mean_squared_error: 0.0011 - val_loss: 4.5435e-04 - val_mean_squared_error: 4.5435e-04\n",
      "Epoch 48/100\n",
      "1408/1408 [==============================] - 0s 85us/sample - loss: 0.0011 - mean_squared_error: 0.0011 - val_loss: 3.6055e-04 - val_mean_squared_error: 3.6055e-04\n",
      "Epoch 49/100\n",
      "1408/1408 [==============================] - 0s 87us/sample - loss: 0.0012 - mean_squared_error: 0.0012 - val_loss: 5.5861e-04 - val_mean_squared_error: 5.5861e-04\n",
      "Epoch 50/100\n",
      "1408/1408 [==============================] - 0s 90us/sample - loss: 0.0012 - mean_squared_error: 0.0012 - val_loss: 4.4289e-04 - val_mean_squared_error: 4.4289e-04\n",
      "Epoch 51/100\n",
      "1408/1408 [==============================] - 0s 89us/sample - loss: 0.0011 - mean_squared_error: 0.0011 - val_loss: 3.6503e-04 - val_mean_squared_error: 3.6503e-04\n",
      "Epoch 52/100\n",
      "1408/1408 [==============================] - 0s 83us/sample - loss: 0.0012 - mean_squared_error: 0.0012 - val_loss: 6.4182e-04 - val_mean_squared_error: 6.4182e-04\n",
      "Epoch 53/100\n",
      "1408/1408 [==============================] - 0s 85us/sample - loss: 0.0011 - mean_squared_error: 0.0011 - val_loss: 4.2311e-04 - val_mean_squared_error: 4.2311e-04\n",
      "Epoch 54/100\n",
      "1408/1408 [==============================] - 0s 85us/sample - loss: 0.0010 - mean_squared_error: 0.0010 - val_loss: 5.2723e-04 - val_mean_squared_error: 5.2723e-04\n",
      "Epoch 55/100\n",
      "1408/1408 [==============================] - 0s 83us/sample - loss: 0.0011 - mean_squared_error: 0.0011 - val_loss: 5.1898e-04 - val_mean_squared_error: 5.1898e-04\n",
      "Epoch 56/100\n",
      "1408/1408 [==============================] - 0s 86us/sample - loss: 0.0011 - mean_squared_error: 0.0011 - val_loss: 4.1523e-04 - val_mean_squared_error: 4.1523e-04\n",
      "Epoch 57/100\n",
      "1408/1408 [==============================] - 0s 82us/sample - loss: 0.0010 - mean_squared_error: 0.0010 - val_loss: 5.0061e-04 - val_mean_squared_error: 5.0061e-04\n",
      "Epoch 58/100\n",
      "1408/1408 [==============================] - 0s 82us/sample - loss: 0.0012 - mean_squared_error: 0.0012 - val_loss: 3.7410e-04 - val_mean_squared_error: 3.7410e-04\n",
      "Epoch 59/100\n",
      "1408/1408 [==============================] - 0s 86us/sample - loss: 0.0010 - mean_squared_error: 0.0010 - val_loss: 3.5764e-04 - val_mean_squared_error: 3.5764e-04\n",
      "Epoch 60/100\n",
      "1408/1408 [==============================] - 0s 87us/sample - loss: 0.0010 - mean_squared_error: 0.0010 - val_loss: 5.5623e-04 - val_mean_squared_error: 5.5623e-04\n",
      "Epoch 61/100\n",
      "1408/1408 [==============================] - 0s 85us/sample - loss: 0.0011 - mean_squared_error: 0.0011 - val_loss: 6.0261e-04 - val_mean_squared_error: 6.0261e-04\n",
      "Epoch 62/100\n",
      "1408/1408 [==============================] - 0s 83us/sample - loss: 0.0011 - mean_squared_error: 0.0011 - val_loss: 3.7099e-04 - val_mean_squared_error: 3.7099e-04\n",
      "Epoch 63/100\n",
      "1408/1408 [==============================] - 0s 84us/sample - loss: 0.0011 - mean_squared_error: 0.0011 - val_loss: 5.5529e-04 - val_mean_squared_error: 5.5529e-04\n",
      "Epoch 64/100\n",
      "1408/1408 [==============================] - 0s 84us/sample - loss: 0.0013 - mean_squared_error: 0.0013 - val_loss: 5.3707e-04 - val_mean_squared_error: 5.3707e-04\n",
      "Epoch 65/100\n",
      "1408/1408 [==============================] - 0s 83us/sample - loss: 0.0011 - mean_squared_error: 0.0011 - val_loss: 3.5046e-04 - val_mean_squared_error: 3.5046e-04\n",
      "Epoch 66/100\n",
      "1408/1408 [==============================] - 0s 82us/sample - loss: 0.0010 - mean_squared_error: 0.0010 - val_loss: 3.7140e-04 - val_mean_squared_error: 3.7140e-04\n",
      "Epoch 67/100\n",
      "1408/1408 [==============================] - 0s 84us/sample - loss: 0.0010 - mean_squared_error: 0.0010 - val_loss: 4.3250e-04 - val_mean_squared_error: 4.3250e-04\n",
      "Epoch 68/100\n",
      "1408/1408 [==============================] - 0s 83us/sample - loss: 0.0010 - mean_squared_error: 0.0010 - val_loss: 3.6158e-04 - val_mean_squared_error: 3.6158e-04\n",
      "Epoch 69/100\n",
      "1408/1408 [==============================] - 0s 87us/sample - loss: 9.9721e-04 - mean_squared_error: 9.9721e-04 - val_loss: 4.6032e-04 - val_mean_squared_error: 4.6032e-04\n",
      "Epoch 70/100\n",
      "1408/1408 [==============================] - 0s 87us/sample - loss: 0.0011 - mean_squared_error: 0.0011 - val_loss: 3.9967e-04 - val_mean_squared_error: 3.9967e-04\n",
      "Epoch 71/100\n",
      "1408/1408 [==============================] - 0s 88us/sample - loss: 9.8264e-04 - mean_squared_error: 9.8264e-04 - val_loss: 3.7916e-04 - val_mean_squared_error: 3.7916e-04\n",
      "Epoch 72/100\n",
      "1408/1408 [==============================] - 0s 89us/sample - loss: 0.0010 - mean_squared_error: 0.0010 - val_loss: 3.4412e-04 - val_mean_squared_error: 3.4412e-04\n",
      "Epoch 73/100\n",
      "1408/1408 [==============================] - 0s 86us/sample - loss: 0.0011 - mean_squared_error: 0.0011 - val_loss: 4.5721e-04 - val_mean_squared_error: 4.5721e-04\n",
      "Epoch 74/100\n",
      "1408/1408 [==============================] - 0s 87us/sample - loss: 0.0011 - mean_squared_error: 0.0011 - val_loss: 3.4346e-04 - val_mean_squared_error: 3.4346e-04\n",
      "Epoch 75/100\n",
      "1408/1408 [==============================] - 0s 86us/sample - loss: 9.7471e-04 - mean_squared_error: 9.7471e-04 - val_loss: 3.4306e-04 - val_mean_squared_error: 3.4306e-04\n",
      "Epoch 76/100\n",
      "1408/1408 [==============================] - 0s 86us/sample - loss: 0.0010 - mean_squared_error: 0.0010 - val_loss: 4.5937e-04 - val_mean_squared_error: 4.5937e-04\n",
      "Epoch 77/100\n",
      "1408/1408 [==============================] - 0s 88us/sample - loss: 0.0011 - mean_squared_error: 0.0011 - val_loss: 3.4526e-04 - val_mean_squared_error: 3.4526e-04\n",
      "Epoch 78/100\n",
      "1408/1408 [==============================] - 0s 88us/sample - loss: 0.0011 - mean_squared_error: 0.0011 - val_loss: 4.9814e-04 - val_mean_squared_error: 4.9814e-04\n",
      "Epoch 79/100\n",
      "1408/1408 [==============================] - 0s 91us/sample - loss: 0.0010 - mean_squared_error: 0.0010 - val_loss: 3.4457e-04 - val_mean_squared_error: 3.4457e-04\n",
      "Epoch 80/100\n",
      "1408/1408 [==============================] - 0s 87us/sample - loss: 9.7010e-04 - mean_squared_error: 9.7010e-04 - val_loss: 3.4155e-04 - val_mean_squared_error: 3.4155e-04\n",
      "Epoch 81/100\n",
      "1408/1408 [==============================] - 0s 88us/sample - loss: 8.9427e-04 - mean_squared_error: 8.9427e-04 - val_loss: 4.4718e-04 - val_mean_squared_error: 4.4718e-04\n",
      "Epoch 82/100\n",
      "1408/1408 [==============================] - 0s 87us/sample - loss: 9.9366e-04 - mean_squared_error: 9.9366e-04 - val_loss: 3.4120e-04 - val_mean_squared_error: 3.4120e-04\n",
      "Epoch 83/100\n",
      "1408/1408 [==============================] - 0s 84us/sample - loss: 9.0728e-04 - mean_squared_error: 9.0728e-04 - val_loss: 3.5453e-04 - val_mean_squared_error: 3.5453e-04\n",
      "Epoch 84/100\n",
      "1408/1408 [==============================] - 0s 92us/sample - loss: 0.0010 - mean_squared_error: 0.0010 - val_loss: 3.4511e-04 - val_mean_squared_error: 3.4511e-04\n",
      "Epoch 85/100\n",
      "1408/1408 [==============================] - 0s 85us/sample - loss: 0.0010 - mean_squared_error: 0.0010 - val_loss: 3.9726e-04 - val_mean_squared_error: 3.9726e-04\n",
      "Epoch 86/100\n",
      "1408/1408 [==============================] - 0s 88us/sample - loss: 9.9146e-04 - mean_squared_error: 9.9146e-04 - val_loss: 3.7001e-04 - val_mean_squared_error: 3.7001e-04\n",
      "Epoch 87/100\n",
      "1408/1408 [==============================] - 0s 87us/sample - loss: 9.6135e-04 - mean_squared_error: 9.6135e-04 - val_loss: 3.9685e-04 - val_mean_squared_error: 3.9685e-04\n",
      "Epoch 88/100\n",
      "1408/1408 [==============================] - 0s 89us/sample - loss: 9.2048e-04 - mean_squared_error: 9.2048e-04 - val_loss: 3.3992e-04 - val_mean_squared_error: 3.3992e-04\n",
      "Epoch 89/100\n",
      "1408/1408 [==============================] - 0s 83us/sample - loss: 0.0010 - mean_squared_error: 0.0010 - val_loss: 3.3872e-04 - val_mean_squared_error: 3.3872e-04\n",
      "Epoch 90/100\n",
      "1408/1408 [==============================] - 0s 84us/sample - loss: 9.4744e-04 - mean_squared_error: 9.4744e-04 - val_loss: 3.4482e-04 - val_mean_squared_error: 3.4482e-04\n",
      "Epoch 91/100\n",
      "1408/1408 [==============================] - 0s 87us/sample - loss: 9.7570e-04 - mean_squared_error: 9.7570e-04 - val_loss: 5.0856e-04 - val_mean_squared_error: 5.0856e-04\n",
      "Epoch 92/100\n",
      "1408/1408 [==============================] - 0s 85us/sample - loss: 8.3611e-04 - mean_squared_error: 8.3611e-04 - val_loss: 3.4778e-04 - val_mean_squared_error: 3.4778e-04\n",
      "Epoch 93/100\n",
      "1408/1408 [==============================] - 0s 80us/sample - loss: 0.0012 - mean_squared_error: 0.0012 - val_loss: 3.6200e-04 - val_mean_squared_error: 3.6200e-04\n",
      "Epoch 94/100\n",
      "1408/1408 [==============================] - 0s 79us/sample - loss: 0.0011 - mean_squared_error: 0.0011 - val_loss: 6.1434e-04 - val_mean_squared_error: 6.1434e-04\n",
      "Epoch 95/100\n",
      "1408/1408 [==============================] - 0s 80us/sample - loss: 0.0010 - mean_squared_error: 0.0010 - val_loss: 3.4664e-04 - val_mean_squared_error: 3.4664e-04\n",
      "Epoch 96/100\n",
      "1408/1408 [==============================] - 0s 80us/sample - loss: 9.6345e-04 - mean_squared_error: 9.6345e-04 - val_loss: 4.1561e-04 - val_mean_squared_error: 4.1561e-04\n",
      "Epoch 97/100\n",
      "1408/1408 [==============================] - 0s 78us/sample - loss: 0.0011 - mean_squared_error: 0.0011 - val_loss: 3.4678e-04 - val_mean_squared_error: 3.4678e-04\n",
      "Epoch 98/100\n",
      "1408/1408 [==============================] - 0s 83us/sample - loss: 0.0011 - mean_squared_error: 0.0011 - val_loss: 3.3905e-04 - val_mean_squared_error: 3.3905e-04\n",
      "Epoch 99/100\n",
      "1408/1408 [==============================] - 0s 83us/sample - loss: 9.1516e-04 - mean_squared_error: 9.1516e-04 - val_loss: 3.5512e-04 - val_mean_squared_error: 3.5512e-04\n",
      "Epoch 100/100\n",
      "1408/1408 [==============================] - 0s 78us/sample - loss: 9.4467e-04 - mean_squared_error: 9.4467e-04 - val_loss: 3.7557e-04 - val_mean_squared_error: 3.7557e-04\n"
     ]
    }
   ],
   "source": [
    "history=model.fit(trainX,trainY,epochs=100,batch_size=128,verbose=1,validation_data=(valX,valY))"
   ]
  },
  {
   "cell_type": "markdown",
   "metadata": {},
   "source": [
    "### Evaluate the model"
   ]
  },
  {
   "cell_type": "code",
   "execution_count": 72,
   "metadata": {},
   "outputs": [],
   "source": [
    "import math"
   ]
  },
  {
   "cell_type": "code",
   "execution_count": 73,
   "metadata": {},
   "outputs": [],
   "source": [
    "def model_score(model,X_train,Y_train,X_val,Y_val,X_test,Y_test):\n",
    "    print(\"Train Score:\")\n",
    "    train_score=model.evaluate(X_train,Y_train,verbose=0)\n",
    "    print(\"MSE={:.5f} , RMSE={:.2f}\".format(train_score[0],math.sqrt(train_score[0])))\n",
    "    print(\"Validation Score:\")\n",
    "    val_score=model.evaluate(X_val,Y_val,verbose=0)\n",
    "    print(\"MSE={:.5f} , RMSE={:.2f}\".format(val_score[0],math.sqrt(val_score[0])))\n",
    "    print(\"Test Score:\")\n",
    "    test_score=model.evaluate(X_test,Y_test,verbose=0)\n",
    "    print(\"MSE={:.5f} , RMSE={:.2f}\".format(test_score[0],math.sqrt(test_score[0])))"
   ]
  },
  {
   "cell_type": "code",
   "execution_count": 74,
   "metadata": {},
   "outputs": [
    {
     "name": "stdout",
     "output_type": "stream",
     "text": [
      "Train Score:\n",
      "MSE=0.00018 , RMSE=0.01\n",
      "Validation Score:\n",
      "MSE=0.00038 , RMSE=0.02\n",
      "Test Score:\n",
      "MSE=0.00024 , RMSE=0.02\n"
     ]
    }
   ],
   "source": [
    "model_score(model, trainX, trainY ,valX, valY , testX, testY)\n"
   ]
  },
  {
   "cell_type": "code",
   "execution_count": 75,
   "metadata": {},
   "outputs": [
    {
     "name": "stdout",
     "output_type": "stream",
     "text": [
      "dict_keys(['loss', 'mean_squared_error', 'val_loss', 'val_mean_squared_error'])\n"
     ]
    }
   ],
   "source": [
    "print(history.history.keys())"
   ]
  },
  {
   "cell_type": "code",
   "execution_count": 76,
   "metadata": {},
   "outputs": [
    {
     "data": {
      "text/plain": [
       "{'loss': [0.09228153255852786,\n",
       "  0.027990306896919556,\n",
       "  0.01093912075951018,\n",
       "  0.003720478313467042,\n",
       "  0.00306871268813583,\n",
       "  0.002418794827959077,\n",
       "  0.002252448212609372,\n",
       "  0.002352136801081625,\n",
       "  0.0019125742414458232,\n",
       "  0.0017621238313784654,\n",
       "  0.0019492471738803115,\n",
       "  0.0017852729440412738,\n",
       "  0.002036661280065098,\n",
       "  0.001881796760823239,\n",
       "  0.0017127492570910942,\n",
       "  0.001555404816330834,\n",
       "  0.001659053324891085,\n",
       "  0.0016969953748312864,\n",
       "  0.0015549553896893155,\n",
       "  0.0016933393939821558,\n",
       "  0.0014833018014376814,\n",
       "  0.0014785323027436707,\n",
       "  0.001380659248256548,\n",
       "  0.0013861376845108514,\n",
       "  0.0014376480195840652,\n",
       "  0.0016098859381269324,\n",
       "  0.001692576958289878,\n",
       "  0.0014310661195354028,\n",
       "  0.0014531135305084965,\n",
       "  0.0013392600389620798,\n",
       "  0.0012676784324205735,\n",
       "  0.0013725150122561238,\n",
       "  0.001444504924372516,\n",
       "  0.0013674361927604134,\n",
       "  0.0013389023052613165,\n",
       "  0.0013988310979171233,\n",
       "  0.0013405568156899376,\n",
       "  0.0010958886017430234,\n",
       "  0.0012833962523886426,\n",
       "  0.001384858401830901,\n",
       "  0.0012524491228925233,\n",
       "  0.0013886588170531798,\n",
       "  0.0011630982361649249,\n",
       "  0.0011006762188943949,\n",
       "  0.0010129038498482921,\n",
       "  0.0010751479157161984,\n",
       "  0.0011376122764142399,\n",
       "  0.0011030516153286126,\n",
       "  0.0011868726684373212,\n",
       "  0.001220255307006565,\n",
       "  0.0011415718049234288,\n",
       "  0.0011903706313618882,\n",
       "  0.001148491288238967,\n",
       "  0.0010121127548204227,\n",
       "  0.0011452855066057634,\n",
       "  0.001117749510078945,\n",
       "  0.0010432520278052173,\n",
       "  0.0011815544884567234,\n",
       "  0.001022380178751932,\n",
       "  0.0010199976492334497,\n",
       "  0.0010750016345727172,\n",
       "  0.0010878520869565282,\n",
       "  0.0010851065691729839,\n",
       "  0.0013066546578722243,\n",
       "  0.0011064387720332227,\n",
       "  0.0010170401497320695,\n",
       "  0.0010307181033898485,\n",
       "  0.0010474787771024487,\n",
       "  0.0009972078947943044,\n",
       "  0.0010578716226684098,\n",
       "  0.0009826401788318021,\n",
       "  0.0010065074311569333,\n",
       "  0.001115529803262854,\n",
       "  0.001051859041167931,\n",
       "  0.0009747137876481495,\n",
       "  0.0010217517688447101,\n",
       "  0.0010882825326089833,\n",
       "  0.0010753087223168802,\n",
       "  0.0010088311550630765,\n",
       "  0.0009701008887284181,\n",
       "  0.0008942689058709551,\n",
       "  0.0009936603495258498,\n",
       "  0.0009072824719954621,\n",
       "  0.0010050717603669248,\n",
       "  0.00100893154211173,\n",
       "  0.000991459147454324,\n",
       "  0.0009613473878496072,\n",
       "  0.000920476159080863,\n",
       "  0.001032483975657008,\n",
       "  0.0009474430222656916,\n",
       "  0.0009757018626921556,\n",
       "  0.0008361110177991742,\n",
       "  0.0011670031605965712,\n",
       "  0.0010832348436286504,\n",
       "  0.0010430827863853085,\n",
       "  0.000963449054820971,\n",
       "  0.0010537883658385413,\n",
       "  0.0010990182900885966,\n",
       "  0.0009151596512476152,\n",
       "  0.0009446688504381614],\n",
       " 'mean_squared_error': [0.092281535,\n",
       "  0.027990306,\n",
       "  0.010939121,\n",
       "  0.0037204786,\n",
       "  0.003068713,\n",
       "  0.0024187947,\n",
       "  0.0022524484,\n",
       "  0.002352137,\n",
       "  0.0019125742,\n",
       "  0.0017621239,\n",
       "  0.0019492471,\n",
       "  0.0017852728,\n",
       "  0.0020366611,\n",
       "  0.0018817968,\n",
       "  0.0017127492,\n",
       "  0.0015554047,\n",
       "  0.0016590533,\n",
       "  0.0016969953,\n",
       "  0.0015549555,\n",
       "  0.0016933392,\n",
       "  0.0014833019,\n",
       "  0.0014785323,\n",
       "  0.0013806594,\n",
       "  0.0013861377,\n",
       "  0.0014376481,\n",
       "  0.001609886,\n",
       "  0.0016925768,\n",
       "  0.0014310662,\n",
       "  0.0014531135,\n",
       "  0.00133926,\n",
       "  0.0012676783,\n",
       "  0.0013725151,\n",
       "  0.0014445051,\n",
       "  0.0013674361,\n",
       "  0.0013389024,\n",
       "  0.0013988311,\n",
       "  0.0013405568,\n",
       "  0.0010958887,\n",
       "  0.0012833962,\n",
       "  0.0013848585,\n",
       "  0.001252449,\n",
       "  0.0013886589,\n",
       "  0.0011630981,\n",
       "  0.0011006763,\n",
       "  0.0010129038,\n",
       "  0.0010751479,\n",
       "  0.0011376123,\n",
       "  0.0011030516,\n",
       "  0.0011868727,\n",
       "  0.0012202554,\n",
       "  0.0011415719,\n",
       "  0.0011903706,\n",
       "  0.0011484913,\n",
       "  0.0010121127,\n",
       "  0.0011452857,\n",
       "  0.0011177495,\n",
       "  0.0010432521,\n",
       "  0.0011815545,\n",
       "  0.0010223802,\n",
       "  0.0010199976,\n",
       "  0.0010750017,\n",
       "  0.001087852,\n",
       "  0.0010851066,\n",
       "  0.0013066547,\n",
       "  0.0011064388,\n",
       "  0.0010170401,\n",
       "  0.0010307181,\n",
       "  0.0010474789,\n",
       "  0.000997208,\n",
       "  0.0010578716,\n",
       "  0.0009826402,\n",
       "  0.0010065074,\n",
       "  0.0011155298,\n",
       "  0.0010518591,\n",
       "  0.0009747138,\n",
       "  0.0010217518,\n",
       "  0.0010882826,\n",
       "  0.0010753087,\n",
       "  0.0010088311,\n",
       "  0.0009701009,\n",
       "  0.000894269,\n",
       "  0.0009936603,\n",
       "  0.0009072824,\n",
       "  0.0010050718,\n",
       "  0.0010089315,\n",
       "  0.0009914591,\n",
       "  0.0009613473,\n",
       "  0.00092047616,\n",
       "  0.001032484,\n",
       "  0.000947443,\n",
       "  0.0009757019,\n",
       "  0.0008361111,\n",
       "  0.0011670032,\n",
       "  0.0010832348,\n",
       "  0.0010430829,\n",
       "  0.00096344895,\n",
       "  0.0010537883,\n",
       "  0.0010990183,\n",
       "  0.00091515965,\n",
       "  0.00094466883],\n",
       " 'val_loss': [0.0012582447484130244,\n",
       "  0.007612712724360427,\n",
       "  0.0006774010682125937,\n",
       "  0.0017459845732940586,\n",
       "  0.0006516362702597816,\n",
       "  0.0009327662612090824,\n",
       "  0.0004887256839964001,\n",
       "  0.0003828563016833942,\n",
       "  0.0004792359470513601,\n",
       "  0.00037904814840563586,\n",
       "  0.0004512913635463556,\n",
       "  0.0003937269460727498,\n",
       "  0.0005145143637449799,\n",
       "  0.0004169752351459213,\n",
       "  0.0003850632821575798,\n",
       "  0.00037991278485201215,\n",
       "  0.0006106157970178678,\n",
       "  0.000398908230436379,\n",
       "  0.0003898522291383625,\n",
       "  0.00037899758849115344,\n",
       "  0.0004181884775258536,\n",
       "  0.0003961632610298693,\n",
       "  0.0003806570640057218,\n",
       "  0.0003684445193799137,\n",
       "  0.0005581811698950354,\n",
       "  0.0005585442511149483,\n",
       "  0.00044814598364042215,\n",
       "  0.0005633979961760557,\n",
       "  0.0003691198300258014,\n",
       "  0.00036400414308845305,\n",
       "  0.00036513238335755046,\n",
       "  0.00038296396264031186,\n",
       "  0.000371884471518822,\n",
       "  0.0004056219324116956,\n",
       "  0.0004212738375106794,\n",
       "  0.0005475354516835657,\n",
       "  0.0003682064207747169,\n",
       "  0.0003928018300161519,\n",
       "  0.0005429620224366104,\n",
       "  0.0005099509756559926,\n",
       "  0.0008233424158015886,\n",
       "  0.0007432848410250221,\n",
       "  0.0003825355683873284,\n",
       "  0.000376070304279151,\n",
       "  0.0003552904587731605,\n",
       "  0.0003626807158775197,\n",
       "  0.00045435476696220996,\n",
       "  0.00036055343641127013,\n",
       "  0.0005586109567578947,\n",
       "  0.00044289238433315917,\n",
       "  0.0003650346654803745,\n",
       "  0.0006418229086456465,\n",
       "  0.0004231091873044676,\n",
       "  0.0005272281560723837,\n",
       "  0.0005189799424395439,\n",
       "  0.0004152274687035612,\n",
       "  0.0005006066655048379,\n",
       "  0.0003740982064368968,\n",
       "  0.0003576403798507204,\n",
       "  0.0005562273868577652,\n",
       "  0.0006026113010482658,\n",
       "  0.0003709917439879968,\n",
       "  0.0005552907779845113,\n",
       "  0.000537074697903772,\n",
       "  0.00035045979271314476,\n",
       "  0.0003714026965509099,\n",
       "  0.00043249869864835067,\n",
       "  0.0003615833933813756,\n",
       "  0.0004603201703429545,\n",
       "  0.00039967281901684046,\n",
       "  0.0003791607228629937,\n",
       "  0.0003441176219100423,\n",
       "  0.00045720588375822337,\n",
       "  0.00034346283669852665,\n",
       "  0.00034306306404403457,\n",
       "  0.00045936848063861705,\n",
       "  0.0003452644322735037,\n",
       "  0.0004981399732143914,\n",
       "  0.0003445716515066361,\n",
       "  0.000341546732354963,\n",
       "  0.00044717777877402724,\n",
       "  0.00034119576253427593,\n",
       "  0.0003545306088178112,\n",
       "  0.00034510884605579596,\n",
       "  0.0003972625936249626,\n",
       "  0.0003700105383732448,\n",
       "  0.00039685470512341385,\n",
       "  0.00033992090288716543,\n",
       "  0.00033871819247690844,\n",
       "  0.00034482469980744916,\n",
       "  0.0005085614373277593,\n",
       "  0.00034777621110777416,\n",
       "  0.0003619966076315526,\n",
       "  0.0006143388067872796,\n",
       "  0.00034663882819838777,\n",
       "  0.0004156054887682404,\n",
       "  0.00034678138649855565,\n",
       "  0.00033904587435455334,\n",
       "  0.00035511837480522453,\n",
       "  0.00037556991581347467],\n",
       " 'val_mean_squared_error': [0.0012582447,\n",
       "  0.0076127127,\n",
       "  0.0006774011,\n",
       "  0.0017459845,\n",
       "  0.0006516363,\n",
       "  0.00093276624,\n",
       "  0.0004887257,\n",
       "  0.00038285632,\n",
       "  0.00047923595,\n",
       "  0.00037904817,\n",
       "  0.00045129136,\n",
       "  0.00039372692,\n",
       "  0.00051451434,\n",
       "  0.00041697524,\n",
       "  0.00038506326,\n",
       "  0.00037991276,\n",
       "  0.0006106158,\n",
       "  0.00039890822,\n",
       "  0.00038985224,\n",
       "  0.0003789976,\n",
       "  0.00041818846,\n",
       "  0.00039616326,\n",
       "  0.00038065706,\n",
       "  0.0003684445,\n",
       "  0.0005581812,\n",
       "  0.0005585443,\n",
       "  0.00044814596,\n",
       "  0.000563398,\n",
       "  0.00036911987,\n",
       "  0.00036400414,\n",
       "  0.00036513238,\n",
       "  0.00038296398,\n",
       "  0.0003718845,\n",
       "  0.00040562192,\n",
       "  0.00042127384,\n",
       "  0.0005475355,\n",
       "  0.0003682064,\n",
       "  0.00039280186,\n",
       "  0.000542962,\n",
       "  0.000509951,\n",
       "  0.00082334236,\n",
       "  0.0007432848,\n",
       "  0.00038253554,\n",
       "  0.0003760703,\n",
       "  0.00035529045,\n",
       "  0.0003626807,\n",
       "  0.00045435474,\n",
       "  0.00036055344,\n",
       "  0.00055861095,\n",
       "  0.0004428924,\n",
       "  0.00036503465,\n",
       "  0.0006418229,\n",
       "  0.00042310916,\n",
       "  0.00052722817,\n",
       "  0.00051897997,\n",
       "  0.0004152275,\n",
       "  0.00050060666,\n",
       "  0.00037409822,\n",
       "  0.00035764038,\n",
       "  0.0005562274,\n",
       "  0.00060261134,\n",
       "  0.00037099177,\n",
       "  0.0005552908,\n",
       "  0.0005370747,\n",
       "  0.0003504598,\n",
       "  0.0003714027,\n",
       "  0.00043249872,\n",
       "  0.0003615834,\n",
       "  0.00046032018,\n",
       "  0.00039967283,\n",
       "  0.00037916075,\n",
       "  0.0003441176,\n",
       "  0.00045720587,\n",
       "  0.00034346283,\n",
       "  0.00034306306,\n",
       "  0.0004593685,\n",
       "  0.00034526442,\n",
       "  0.00049813994,\n",
       "  0.00034457166,\n",
       "  0.00034154675,\n",
       "  0.00044717776,\n",
       "  0.00034119576,\n",
       "  0.0003545306,\n",
       "  0.00034510886,\n",
       "  0.0003972626,\n",
       "  0.00037001056,\n",
       "  0.0003968547,\n",
       "  0.0003399209,\n",
       "  0.00033871818,\n",
       "  0.0003448247,\n",
       "  0.00050856144,\n",
       "  0.00034777622,\n",
       "  0.00036199662,\n",
       "  0.0006143388,\n",
       "  0.00034663882,\n",
       "  0.0004156055,\n",
       "  0.0003467814,\n",
       "  0.00033904586,\n",
       "  0.0003551184,\n",
       "  0.0003755699]}"
      ]
     },
     "execution_count": 76,
     "metadata": {},
     "output_type": "execute_result"
    }
   ],
   "source": [
    "model.history.history"
   ]
  },
  {
   "cell_type": "code",
   "execution_count": 77,
   "metadata": {},
   "outputs": [
    {
     "data": {
      "image/png": "[encoded data removed]",
      "text/plain": [
       "<Figure size 432x288 with 1 Axes>"
      ]
     },
     "metadata": {
      "needs_background": "light"
     },
     "output_type": "display_data"
    }
   ],
   "source": [
    "# Plotting losses\n",
    "plt.plot(history.history['loss'])  # plotting train loss\n",
    "plt.plot(history.history['val_loss'])  # plotting validation loss\n",
    "\n",
    "plt.title('model loss')\n",
    "plt.ylabel('loss')\n",
    "plt.xlabel('epoch')\n",
    "plt.legend(['train', 'val'], loc='upper left')\n",
    "plt.show()"
   ]
  },
  {
   "cell_type": "code",
   "execution_count": 78,
   "metadata": {},
   "outputs": [],
   "source": [
    "pred=model.predict(testX) # make predictions using model"
   ]
  },
  {
   "cell_type": "code",
   "execution_count": 79,
   "metadata": {},
   "outputs": [],
   "source": [
    "pred=scaler.inverse_transform(pred) \n"
   ]
  },
  {
   "cell_type": "code",
   "execution_count": 80,
   "metadata": {},
   "outputs": [],
   "source": [
    "testY_actual=scaler.inverse_transform(testY.reshape(testY.shape[0],1))"
   ]
  },
  {
   "cell_type": "code",
   "execution_count": 81,
   "metadata": {},
   "outputs": [
    {
     "data": {
      "text/plain": [
       "[<matplotlib.lines.Line2D at 0x7f6d4c56d6a0>]"
      ]
     },
     "execution_count": 81,
     "metadata": {},
     "output_type": "execute_result"
    },
    {
     "data": {
      "image/png": "[encoded data removed]",
      "text/plain": [
       "<Figure size 432x288 with 1 Axes>"
      ]
     },
     "metadata": {
      "needs_background": "light"
     },
     "output_type": "display_data"
    }
   ],
   "source": [
    "plt.plot(testY_actual , 'b') #plot predicted data and actual values(testY)\n",
    "plt.plot(pred,'r')"
   ]
  },
  {
   "cell_type": "code",
   "execution_count": 85,
   "metadata": {},
   "outputs": [],
   "source": [
    "d=pd.DataFrame([p,a] for p,a in zip(pred,testY_actual))# Create list of predicted and actual values to compare side by side"
   ]
  },
  {
   "cell_type": "code",
   "execution_count": 86,
   "metadata": {},
   "outputs": [
    {
     "data": {
      "text/html": [
       "<div>\n",
       "<style scoped>\n",
       "    .dataframe tbody tr th:only-of-type {\n",
       "        vertical-align: middle;\n",
       "    }\n",
       "\n",
       "    .dataframe tbody tr th {\n",
       "        vertical-align: top;\n",
       "    }\n",
       "\n",
       "    .dataframe thead th {\n",
       "        text-align: right;\n",
       "    }\n",
       "</style>\n",
       "<table border=\"1\" class=\"dataframe\">\n",
       "  <thead>\n",
       "    <tr style=\"text-align: right;\">\n",
       "      <th></th>\n",
       "      <th>Predicted</th>\n",
       "      <th>Actual</th>\n",
       "    </tr>\n",
       "  </thead>\n",
       "  <tbody>\n",
       "    <tr>\n",
       "      <th>0</th>\n",
       "      <td>[37.72151]</td>\n",
       "      <td>[37.23]</td>\n",
       "    </tr>\n",
       "    <tr>\n",
       "      <th>1</th>\n",
       "      <td>[37.494892]</td>\n",
       "      <td>[37.11]</td>\n",
       "    </tr>\n",
       "    <tr>\n",
       "      <th>2</th>\n",
       "      <td>[37.33873]</td>\n",
       "      <td>[36.95]</td>\n",
       "    </tr>\n",
       "    <tr>\n",
       "      <th>3</th>\n",
       "      <td>[37.19399]</td>\n",
       "      <td>[36.59]</td>\n",
       "    </tr>\n",
       "    <tr>\n",
       "      <th>4</th>\n",
       "      <td>[36.900898]</td>\n",
       "      <td>[36.6]</td>\n",
       "    </tr>\n",
       "    <tr>\n",
       "      <th>...</th>\n",
       "      <td>...</td>\n",
       "      <td>...</td>\n",
       "    </tr>\n",
       "    <tr>\n",
       "      <th>169</th>\n",
       "      <td>[39.295822]</td>\n",
       "      <td>[38.5]</td>\n",
       "    </tr>\n",
       "    <tr>\n",
       "      <th>170</th>\n",
       "      <td>[38.85286]</td>\n",
       "      <td>[38.66]</td>\n",
       "    </tr>\n",
       "    <tr>\n",
       "      <th>171</th>\n",
       "      <td>[38.768917]</td>\n",
       "      <td>[38.92]</td>\n",
       "    </tr>\n",
       "    <tr>\n",
       "      <th>172</th>\n",
       "      <td>[38.992393]</td>\n",
       "      <td>[38.73]</td>\n",
       "    </tr>\n",
       "    <tr>\n",
       "      <th>173</th>\n",
       "      <td>[38.940628]</td>\n",
       "      <td>[38.64]</td>\n",
       "    </tr>\n",
       "  </tbody>\n",
       "</table>\n",
       "<p>174 rows × 2 columns</p>\n",
       "</div>"
      ],
      "text/plain": [
       "       Predicted   Actual\n",
       "0     [37.72151]  [37.23]\n",
       "1    [37.494892]  [37.11]\n",
       "2     [37.33873]  [36.95]\n",
       "3     [37.19399]  [36.59]\n",
       "4    [36.900898]   [36.6]\n",
       "..           ...      ...\n",
       "169  [39.295822]   [38.5]\n",
       "170   [38.85286]  [38.66]\n",
       "171  [38.768917]  [38.92]\n",
       "172  [38.992393]  [38.73]\n",
       "173  [38.940628]  [38.64]\n",
       "\n",
       "[174 rows x 2 columns]"
      ]
     },
     "execution_count": 86,
     "metadata": {},
     "output_type": "execute_result"
    }
   ],
   "source": [
    "d.columns=['Predicted','Actual']\n",
    "d"
   ]
  },
  {
   "cell_type": "markdown",
   "metadata": {},
   "source": [
    "**We can see from above list and plot that model is making good predictions and loss is also very low.**"
   ]
  },
  {
   "cell_type": "code",
   "execution_count": null,
   "metadata": {},
   "outputs": [],
   "source": []
  }
 ],
 "metadata": {
  "kernelspec": {
   "display_name": "tensorflow2",
   "language": "python",
   "name": "tensorflow2"
  },
  "language_info": {
   "codemirror_mode": {
    "name": "ipython",
    "version": 3
   },
   "file_extension": ".py",
   "mimetype": "text/x-python",
   "name": "python",
   "nbconvert_exporter": "python",
   "pygments_lexer": "ipython3",
   "version": "3.6.8"
  },
  "toc": {
   "base_numbering": 1,
   "nav_menu": {},
   "number_sections": true,
   "sideBar": true,
   "skip_h1_title": false,
   "title_cell": "Table of Contents",
   "title_sidebar": "Contents",
   "toc_cell": false,
   "toc_position": {},
   "toc_section_display": true,
   "toc_window_display": false
  }
 },
 "nbformat": 4,
 "nbformat_minor": 2
}
